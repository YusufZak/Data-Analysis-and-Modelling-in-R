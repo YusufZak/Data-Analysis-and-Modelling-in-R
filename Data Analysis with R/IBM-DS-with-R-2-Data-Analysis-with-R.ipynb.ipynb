{
 "cells": [
  {
   "cell_type": "code",
   "execution_count": 1,
   "metadata": {},
   "outputs": [
    {
     "ename": "ERROR",
     "evalue": "Error in library(projectLib): there is no package called ‘projectLib’\n",
     "execution_count": 1,
     "output_type": "error",
     "traceback": [
      "Error in library(projectLib): there is no package called ‘projectLib’\nTraceback:\n",
      "1. library(projectLib)",
      "2. stop(txt, domain = NA)"
     ]
    }
   ],
   "source": [
    "# @hidden_cell\n",
    "# The project token is an authorization token that is used to access project resources like data sources, connections, and used by platform APIs.\n",
    "library(projectLib)\n",
    "project <- projectLib::Project$new(projectId=\"7fc99898-7171-48c9-8c13-2b133e16c064\", projectToken=\"p-d22925560d7b4dab8133d7e7d4f4b879f00a57dd\")\n",
    "pc <- project$project_context\n"
   ]
  },
  {
   "cell_type": "markdown",
   "metadata": {},
   "source": [
    "<center>\n",
    "    <img src=\"https://s3-api.us-geo.objectstorage.softlayer.net/cf-courses-data/CognitiveClass/Logos/organization_logo/organization_logo.png\" width=\"300\" alt=\"cognitiveclass.ai logo\"  />\n",
    "</center>\n",
    "\n",
    "# Assignment: Notebook for Peer Assignment\n",
    "\n",
    "Estimated time needed: 60 minutes\n"
   ]
  },
  {
   "cell_type": "markdown",
   "metadata": {},
   "source": [
    "# Assignment Scenario\n",
    "\n",
    "Congratulations! You have just been hired by a US Weather forecast firm as a data scientist.\n",
    "\n",
    "The company is considering the weather condition to help predict the possibility of precipitations, which involves using various local climatological variables, including temperature, wind speed, humidity, dew point, and pressure. The data you will be handling was collected by a NOAA weather station located at the John F. Kennedy International Airport in Queens, New York.\n",
    "\n",
    "Your task is to provide a high level analysis of weather data in JFK Airport. Your stakeholders want to understand the current and historical record of precipitations based on different variables. For now they are mainly interested in a macro-view of JFK Airport Weather, and how it relates to the possibility to rain because it will affect flight delays and etc.\n"
   ]
  },
  {
   "cell_type": "markdown",
   "metadata": {},
   "source": [
    "# Introduction\n",
    "\n",
    "This project relates to the NOAA Weather Dataset - JFK Airport (New York). The original dataset contains 114,546 hourly observations of 12 local climatological variables (such as temperature and wind speed) collected at JFK airport. This dataset can be obtained for free from the IBM Developer [Data Asset Exchange](https://developer.ibm.com/exchanges/data/all/jfk-weather-data/?utm_medium=Exinfluencer&utm_source=Exinfluencer&utm_content=000026UJ&utm_term=10006555&utm_id=NA-SkillsNetwork-Channel-SkillsNetworkCoursesIBMDA0151ENSkillsNetwork21582452-2021-01-01).\n",
    "\n",
    "For this project, you will be using a subset dataset, which contains 5727 rows (about 5% or original rows) and 9 columns. The end goal will be to predict the precipitation using some of the available features. In this project, you will practice reading data files, preprocessing data, creating models, improving models and evaluating them to ultimately choose the best model.\n"
   ]
  },
  {
   "cell_type": "markdown",
   "metadata": {},
   "source": [
    "## Table of Contents:\n",
    "\n",
    "Using this R notebook you will complete **10 tasks**:\n",
    "\n",
    "*   [0. Prerequisites](#cell0)\n",
    "*   [1. Download and Unzip NOAA Weather Dataset](#cell1)\n",
    "*   [2. Read Dataset into Project](#cell2)\n",
    "*   [3. Select Subset of Columns](#cell3)\n",
    "*   [4. Clean Up Columns](#cell4)\n",
    "*   [5. Convert Columns to Numerical Types](#cell5)\n",
    "*   [6. Rename Columns](#cell6)\n",
    "*   [7. Exploratory Data Analysis](#cell7)\n",
    "*   [8. Linear Regression](#cell8)\n",
    "*   [9. Improve the Model](#cell9)\n",
    "*   [10. Find Best Model](#cell10)\n",
    "\n",
    "<a id=\"cell0\"></a>\n",
    "\n",
    "## 0. Prerequisites\n",
    "\n",
    "**When creating this notebook in Watson Studio, remember to chose R under \"Select runtime\" to make sure the kernel is using R.**\n",
    "\n",
    "Before you run this notebook complete the following steps:\n",
    "\n",
    "*   Insert a project token\n",
    "*   Import required modules\n",
    "\n",
    "#### Insert a project token\n",
    "\n",
    "When you import this project from the Watson Studio Gallery, a token should be automatically generated and inserted at the top of this notebook as a code cell such as the one below:\n",
    "\n",
    "```python\n",
    "# @hidden_cell\n",
    "# The project token is an authorization token that is used to access project resources like data sources, connections, and used by platform APIs.\n",
    "from project_lib import Project\n",
    "project = Project(project_id='YOUR_PROJECT_ID', project_access_token='YOUR_PROJECT_TOKEN')\n",
    "pc = project.project_context\n",
    "```\n",
    "\n",
    "If you do not see the cell above, follow these steps to enable the notebook to access the dataset from the project's resources:\n",
    "\n",
    "*   Click on `More -> Insert project token` in the top-right menu section\n",
    "\n",
    "![ws-project.mov](https://media.giphy.com/media/jSVxX2spqwWF9unYrs/giphy.gif)\n",
    "\n",
    "*   This should insert a cell at the top of this notebook similar to the example given above.\n",
    "\n",
    "    > If an error is displayed indicating that no project token is defined, follow [these instructions](https://dataplatform.cloud.ibm.com/docs/content/wsj/analyze-data/token.html?utm_medium=Exinfluencer&utm_source=Exinfluencer&utm_content=000026UJ&utm_term=10006555&utm_id=NA-SkillsNetwork-Channel-SkillsNetworkCoursesIBMDA0151ENSkillsNetwork21582452-2021-01-01&audience=wdp&context=data).\n",
    "\n",
    "*   Run the newly inserted cell before proceeding with the notebook execution below\n",
    "\n",
    "### Import required modules\n",
    "\n",
    "Below, install \"tidymodels\", additionally \"rlang\" should be updated in order to properly run \"tidymodels\".\n"
   ]
  },
  {
   "cell_type": "code",
   "execution_count": 1,
   "metadata": {},
   "outputs": [
    {
     "name": "stderr",
     "output_type": "stream",
     "text": [
      "Updating HTML index of packages in '.Library'\n",
      "Making 'packages.html' ... done\n",
      "Updating HTML index of packages in '.Library'\n",
      "Making 'packages.html' ... done\n"
     ]
    }
   ],
   "source": [
    "# Install tidymodels if you haven't done so\n",
    "install.packages(\"rlang\")\n",
    "install.packages(\"tidymodels\")"
   ]
  },
  {
   "cell_type": "markdown",
   "metadata": {},
   "source": [
    "After installing the packages, load them. Tidyverse and Tidymodels will be the two main packages you will use.\n"
   ]
  },
  {
   "cell_type": "code",
   "execution_count": 2,
   "metadata": {},
   "outputs": [
    {
     "name": "stderr",
     "output_type": "stream",
     "text": [
      "── Attaching packages ────────────────────────────────────── tidymodels 0.1.4 ──\n",
      "✔ broom        0.7.10     ✔ recipes      0.1.17\n",
      "✔ dials        0.0.10     ✔ rsample      0.1.1 \n",
      "✔ dplyr        1.0.7      ✔ tibble       3.1.6 \n",
      "✔ ggplot2      3.3.5      ✔ tidyr        1.1.4 \n",
      "✔ infer        1.0.0      ✔ tune         0.1.6 \n",
      "✔ modeldata    0.1.1      ✔ workflows    0.2.4 \n",
      "✔ parsnip      0.1.7      ✔ workflowsets 0.1.0 \n",
      "✔ purrr        0.3.4      ✔ yardstick    0.0.9 \n",
      "── Conflicts ───────────────────────────────────────── tidymodels_conflicts() ──\n",
      "✖ purrr::discard() masks scales::discard()\n",
      "✖ dplyr::filter()  masks stats::filter()\n",
      "✖ dplyr::lag()     masks stats::lag()\n",
      "✖ recipes::step()  masks stats::step()\n",
      "• Learn how to get started at https://www.tidymodels.org/start/\n",
      "── Attaching packages ─────────────────────────────────────── tidyverse 1.3.0 ──\n",
      "✔ readr   1.3.1     ✔ forcats 0.5.0\n",
      "✔ stringr 1.4.0     \n",
      "── Conflicts ────────────────────────────────────────── tidyverse_conflicts() ──\n",
      "✖ readr::col_factor() masks scales::col_factor()\n",
      "✖ purrr::discard()    masks scales::discard()\n",
      "✖ dplyr::filter()     masks stats::filter()\n",
      "✖ stringr::fixed()    masks recipes::fixed()\n",
      "✖ dplyr::lag()        masks stats::lag()\n",
      "✖ readr::spec()       masks yardstick::spec()\n"
     ]
    }
   ],
   "source": [
    "# Library for modeling\n",
    "library(tidymodels)\n",
    "\n",
    "# Load tidyverse\n",
    "library(tidyverse)"
   ]
  },
  {
   "cell_type": "markdown",
   "metadata": {},
   "source": [
    "### Understand the Dataset\n",
    "\n",
    "The original NOAA JFK dataset contains 114,546 hourly observations of various local climatological variables (including temperature, wind speed, humidity, dew point, and pressure).\n",
    "\n",
    "In this project you will use a sample dataset, which is around 293 KB. [Link to the sample dataset](https://dax-cdn.cdn.appdomain.cloud/dax-noaa-weather-data-jfk-airport/1.1.4/noaa-weather-sample-data.tar.gz).\n",
    "\n",
    "The sample contains 5727 rows (about 5% or original rows) and 9 columns, which are:\n",
    "\n",
    "*   DATE\n",
    "*   HOURLYDewPointTempF\n",
    "*   HOURLYRelativeHumidity\n",
    "*   HOURLYDRYBULBTEMPF\n",
    "*   HOURLYWETBULBTEMPF\n",
    "*   HOURLYPrecip\n",
    "*   HOURLYWindSpeed\n",
    "*   HOURLYSeaLevelPressure\n",
    "*   HOURLYStationPressure\n",
    "\n",
    "The original dataset is much bigger. Feel free to explore the original dataset. [Link to the original dataset.](https://dax-cdn.cdn.appdomain.cloud/dax-noaa-weather-data-jfk-airport/1.1.4/noaa_weather.html)\n",
    "\n",
    "For more information about the dataset, checkout the [preview](https://dax-cdn.cdn.appdomain.cloud/dax-noaa-weather-data-jfk-airport/1.1.4/data-preview/index.html?\\_ga=2.176781478.281508226.1616293518-1509963377.1616117067&cm_mc_uid=90945889198916153255549&cm_mc_sid\\_50200000=64650651616293516933) of NOAA Weather - JFK Airport.\n"
   ]
  },
  {
   "cell_type": "markdown",
   "metadata": {},
   "source": [
    "<a id=\"cell1\"></a>\n",
    "\n",
    "## 1. Download NOAA Weather Dataset\n",
    "\n",
    "Use the `download.file()` function to download the sample dataset from the URL below.\n",
    "\n",
    "URL = '<https://dax-cdn.cdn.appdomain.cloud/dax-noaa-weather-data-jfk-airport/1.1.4/noaa-weather-sample-data.tar.gz>'\n"
   ]
  },
  {
   "cell_type": "code",
   "execution_count": 3,
   "metadata": {},
   "outputs": [],
   "source": [
    "url <- \"https://dax-cdn.cdn.appdomain.cloud/dax-noaa-weather-data-jfk-airport/1.1.4/noaa-weather-sample-data.tar.gz\"\n",
    "download.file(url, destfile = \"noaa-weather-sample-data.tar.gz\")"
   ]
  },
  {
   "cell_type": "markdown",
   "metadata": {},
   "source": [
    "Untar the zipped file.\n"
   ]
  },
  {
   "cell_type": "code",
   "execution_count": 4,
   "metadata": {},
   "outputs": [
    {
     "name": "stderr",
     "output_type": "stream",
     "text": [
      "Warning message in untar2(tarfile, files, list, exdir, restore_times):\n",
      "“using pax extended headers”"
     ]
    }
   ],
   "source": [
    "untar(\"noaa-weather-sample-data.tar.gz\", tar = \"internal\")"
   ]
  },
  {
   "cell_type": "markdown",
   "metadata": {},
   "source": [
    "<a id=\"cell2\"></a>\n",
    "\n",
    "## 2. Extract and Read into Project\n",
    "\n",
    "We start by reading in the raw dataset. You should specify the file name as \"noaa-weather-sample-data/jfk_weather_sample.csv\".\n"
   ]
  },
  {
   "cell_type": "code",
   "execution_count": 5,
   "metadata": {},
   "outputs": [
    {
     "name": "stderr",
     "output_type": "stream",
     "text": [
      "Parsed with column specification:\n",
      "cols(\n",
      "  DATE = col_datetime(format = \"\"),\n",
      "  HOURLYDewPointTempF = col_double(),\n",
      "  HOURLYRelativeHumidity = col_double(),\n",
      "  HOURLYDRYBULBTEMPF = col_double(),\n",
      "  HOURLYWETBULBTEMPF = col_double(),\n",
      "  HOURLYPrecip = col_character(),\n",
      "  HOURLYWindSpeed = col_double(),\n",
      "  HOURLYSeaLevelPressure = col_double(),\n",
      "  HOURLYStationPressure = col_double()\n",
      ")\n",
      "Warning message:\n",
      "“1 parsing failure.\n",
      " row                 col               expected actual                                              file\n",
      "1443 HOURLYDewPointTempF no trailing characters      s 'noaa-weather-sample-data/jfk_weather_sample.csv'\n",
      "”"
     ]
    }
   ],
   "source": [
    "nooa_raw_df <- read_csv( \"noaa-weather-sample-data/jfk_weather_sample.csv\")"
   ]
  },
  {
   "cell_type": "markdown",
   "metadata": {},
   "source": [
    "Next, display the first few rows of the dataframe.\n"
   ]
  },
  {
   "cell_type": "code",
   "execution_count": 6,
   "metadata": {},
   "outputs": [
    {
     "data": {
      "text/html": [
       "<table>\n",
       "<caption>A tibble: 6 × 9</caption>\n",
       "<thead>\n",
       "\t<tr><th scope=col>DATE</th><th scope=col>HOURLYDewPointTempF</th><th scope=col>HOURLYRelativeHumidity</th><th scope=col>HOURLYDRYBULBTEMPF</th><th scope=col>HOURLYWETBULBTEMPF</th><th scope=col>HOURLYPrecip</th><th scope=col>HOURLYWindSpeed</th><th scope=col>HOURLYSeaLevelPressure</th><th scope=col>HOURLYStationPressure</th></tr>\n",
       "\t<tr><th scope=col>&lt;dttm&gt;</th><th scope=col>&lt;dbl&gt;</th><th scope=col>&lt;dbl&gt;</th><th scope=col>&lt;dbl&gt;</th><th scope=col>&lt;dbl&gt;</th><th scope=col>&lt;chr&gt;</th><th scope=col>&lt;dbl&gt;</th><th scope=col>&lt;dbl&gt;</th><th scope=col>&lt;dbl&gt;</th></tr>\n",
       "</thead>\n",
       "<tbody>\n",
       "\t<tr><td>2015-07-25 13:51:00</td><td>60</td><td>46</td><td>83</td><td>68</td><td>0.00</td><td>13</td><td>30.01</td><td>29.99</td></tr>\n",
       "\t<tr><td>2016-11-18 23:51:00</td><td>34</td><td>48</td><td>53</td><td>44</td><td>0.00</td><td> 6</td><td>30.05</td><td>30.03</td></tr>\n",
       "\t<tr><td>2013-01-06 08:51:00</td><td>33</td><td>89</td><td>36</td><td>35</td><td>0.00</td><td>13</td><td>30.14</td><td>30.12</td></tr>\n",
       "\t<tr><td>2011-01-27 16:51:00</td><td>18</td><td>48</td><td>36</td><td>30</td><td>0.00</td><td>14</td><td>29.82</td><td>29.80</td></tr>\n",
       "\t<tr><td>2015-01-03 12:16:00</td><td>27</td><td>61</td><td>39</td><td>34</td><td>T   </td><td>11</td><td>   NA</td><td>30.50</td></tr>\n",
       "\t<tr><td>2013-02-15 20:51:00</td><td>35</td><td>79</td><td>41</td><td>38</td><td>0.00</td><td> 6</td><td>29.94</td><td>29.92</td></tr>\n",
       "</tbody>\n",
       "</table>\n"
      ],
      "text/latex": [
       "A tibble: 6 × 9\n",
       "\\begin{tabular}{lllllllll}\n",
       " DATE & HOURLYDewPointTempF & HOURLYRelativeHumidity & HOURLYDRYBULBTEMPF & HOURLYWETBULBTEMPF & HOURLYPrecip & HOURLYWindSpeed & HOURLYSeaLevelPressure & HOURLYStationPressure\\\\\n",
       " <dttm> & <dbl> & <dbl> & <dbl> & <dbl> & <chr> & <dbl> & <dbl> & <dbl>\\\\\n",
       "\\hline\n",
       "\t 2015-07-25 13:51:00 & 60 & 46 & 83 & 68 & 0.00 & 13 & 30.01 & 29.99\\\\\n",
       "\t 2016-11-18 23:51:00 & 34 & 48 & 53 & 44 & 0.00 &  6 & 30.05 & 30.03\\\\\n",
       "\t 2013-01-06 08:51:00 & 33 & 89 & 36 & 35 & 0.00 & 13 & 30.14 & 30.12\\\\\n",
       "\t 2011-01-27 16:51:00 & 18 & 48 & 36 & 30 & 0.00 & 14 & 29.82 & 29.80\\\\\n",
       "\t 2015-01-03 12:16:00 & 27 & 61 & 39 & 34 & T    & 11 &    NA & 30.50\\\\\n",
       "\t 2013-02-15 20:51:00 & 35 & 79 & 41 & 38 & 0.00 &  6 & 29.94 & 29.92\\\\\n",
       "\\end{tabular}\n"
      ],
      "text/markdown": [
       "\n",
       "A tibble: 6 × 9\n",
       "\n",
       "| DATE &lt;dttm&gt; | HOURLYDewPointTempF &lt;dbl&gt; | HOURLYRelativeHumidity &lt;dbl&gt; | HOURLYDRYBULBTEMPF &lt;dbl&gt; | HOURLYWETBULBTEMPF &lt;dbl&gt; | HOURLYPrecip &lt;chr&gt; | HOURLYWindSpeed &lt;dbl&gt; | HOURLYSeaLevelPressure &lt;dbl&gt; | HOURLYStationPressure &lt;dbl&gt; |\n",
       "|---|---|---|---|---|---|---|---|---|\n",
       "| 2015-07-25 13:51:00 | 60 | 46 | 83 | 68 | 0.00 | 13 | 30.01 | 29.99 |\n",
       "| 2016-11-18 23:51:00 | 34 | 48 | 53 | 44 | 0.00 |  6 | 30.05 | 30.03 |\n",
       "| 2013-01-06 08:51:00 | 33 | 89 | 36 | 35 | 0.00 | 13 | 30.14 | 30.12 |\n",
       "| 2011-01-27 16:51:00 | 18 | 48 | 36 | 30 | 0.00 | 14 | 29.82 | 29.80 |\n",
       "| 2015-01-03 12:16:00 | 27 | 61 | 39 | 34 | T    | 11 |    NA | 30.50 |\n",
       "| 2013-02-15 20:51:00 | 35 | 79 | 41 | 38 | 0.00 |  6 | 29.94 | 29.92 |\n",
       "\n"
      ],
      "text/plain": [
       "  DATE                HOURLYDewPointTempF HOURLYRelativeHumidity\n",
       "1 2015-07-25 13:51:00 60                  46                    \n",
       "2 2016-11-18 23:51:00 34                  48                    \n",
       "3 2013-01-06 08:51:00 33                  89                    \n",
       "4 2011-01-27 16:51:00 18                  48                    \n",
       "5 2015-01-03 12:16:00 27                  61                    \n",
       "6 2013-02-15 20:51:00 35                  79                    \n",
       "  HOURLYDRYBULBTEMPF HOURLYWETBULBTEMPF HOURLYPrecip HOURLYWindSpeed\n",
       "1 83                 68                 0.00         13             \n",
       "2 53                 44                 0.00          6             \n",
       "3 36                 35                 0.00         13             \n",
       "4 36                 30                 0.00         14             \n",
       "5 39                 34                 T            11             \n",
       "6 41                 38                 0.00          6             \n",
       "  HOURLYSeaLevelPressure HOURLYStationPressure\n",
       "1 30.01                  29.99                \n",
       "2 30.05                  30.03                \n",
       "3 30.14                  30.12                \n",
       "4 29.82                  29.80                \n",
       "5    NA                  30.50                \n",
       "6 29.94                  29.92                "
      ]
     },
     "metadata": {},
     "output_type": "display_data"
    }
   ],
   "source": [
    "head(nooa_raw_df)\n",
    "#nooa_raw_df %>% map(~sum(is.na(.)))      To check for columns with missing values"
   ]
  },
  {
   "cell_type": "markdown",
   "metadata": {},
   "source": [
    "Also, take a `glimpse` of the dataset to see the different column data types and make sure it is the correct subset dataset with about 5700 rows and 9 columns.\n"
   ]
  },
  {
   "cell_type": "code",
   "execution_count": 7,
   "metadata": {},
   "outputs": [
    {
     "name": "stdout",
     "output_type": "stream",
     "text": [
      "Rows: 5,727\n",
      "Columns: 9\n",
      "$ DATE                   <dttm> 2015-07-25 13:51:00, 2016-11-18 23:51:00, 2013…\n",
      "$ HOURLYDewPointTempF    <dbl> 60, 34, 33, 18, 27, 35, 4, 14, 51, 71, 76, 19, …\n",
      "$ HOURLYRelativeHumidity <dbl> 46, 48, 89, 48, 61, 79, 51, 65, 90, 94, 79, 37,…\n",
      "$ HOURLYDRYBULBTEMPF     <dbl> 83, 53, 36, 36, 39, 41, 19, 24, 54, 73, 83, 44,…\n",
      "$ HOURLYWETBULBTEMPF     <dbl> 68, 44, 35, 30, 34, 38, 15, 21, 52, 72, 78, 35,…\n",
      "$ HOURLYPrecip           <chr> \"0.00\", \"0.00\", \"0.00\", \"0.00\", \"T\", \"0.00\", \"0…\n",
      "$ HOURLYWindSpeed        <dbl> 13, 6, 13, 14, 11, 6, 0, 11, 11, 5, 21, 7, 17, …\n",
      "$ HOURLYSeaLevelPressure <dbl> 30.01, 30.05, 30.14, 29.82, NA, 29.94, 30.42, 3…\n",
      "$ HOURLYStationPressure  <dbl> 29.99, 30.03, 30.12, 29.80, 30.50, 29.92, 30.40…\n"
     ]
    }
   ],
   "source": [
    "glimpse(nooa_raw_df)"
   ]
  },
  {
   "cell_type": "markdown",
   "metadata": {},
   "source": [
    "<a id=\"cell3\"></a>\n",
    "\n",
    "## 3. Select Subset of Columns\n",
    "\n",
    "The end goal of this project will be to predict `HOURLYprecip` (precipitation) using a few other variables. Before you can do this, you first need to preprocess the dataset. Section 3 to section 6 focuses on preprocessing.\n",
    "\n",
    "The first step in preprocessing is to select a subset of data columns and inspect the column types.\n",
    "\n",
    "The key columns that we will explore in this project are:\n",
    "\n",
    "*   HOURLYRelativeHumidity\n",
    "*   HOURLYDRYBULBTEMPF\n",
    "*   HOURLYPrecip\n",
    "*   HOURLYWindSpeed\n",
    "*   HOURLYStationPressure\n",
    "\n",
    "Data Glossary:\n",
    "\n",
    "*   'HOURLYRelativeHumidity' is the relative humidity given to the nearest whole percentage.\n",
    "*   'HOURLYDRYBULBTEMPF' is the dry-bulb temperature and is commonly used as the standard air temperature reported. It is given here in whole degrees Fahrenheit.\n",
    "*   'HOURLYPrecip' is the amount of precipitation in inches to hundredths over the past hour. For certain automated stations, precipitation will be reported at sub-hourly intervals (e.g. every 15 or 20 minutes) as an accumulated amount of all precipitation within the preceding hour. A “T” indicates a trace amount of precipitation.\n",
    "*   'HOURLYWindSpeed' is the speed of the wind at the time of observation given in miles per hour (mph).\n",
    "*   'HOURLYStationPressure' is the atmospheric pressure observed at the station during the time of observation. Given in inches of Mercury (in Hg).\n",
    "\n",
    "`Select` those five columns and store the modified dataframe as a new variable.\n"
   ]
  },
  {
   "cell_type": "code",
   "execution_count": 8,
   "metadata": {},
   "outputs": [],
   "source": [
    "nooa_col_select <- nooa_raw_df %>% select(HOURLYRelativeHumidity, HOURLYDRYBULBTEMPF, HOURLYPrecip,\n",
    "                                     HOURLYWindSpeed,HOURLYStationPressure)"
   ]
  },
  {
   "cell_type": "markdown",
   "metadata": {},
   "source": [
    "Show the first 10 rows of this new dataframe.\n"
   ]
  },
  {
   "cell_type": "code",
   "execution_count": 9,
   "metadata": {},
   "outputs": [
    {
     "data": {
      "text/html": [
       "<table>\n",
       "<caption>A tibble: 10 × 5</caption>\n",
       "<thead>\n",
       "\t<tr><th scope=col>HOURLYRelativeHumidity</th><th scope=col>HOURLYDRYBULBTEMPF</th><th scope=col>HOURLYPrecip</th><th scope=col>HOURLYWindSpeed</th><th scope=col>HOURLYStationPressure</th></tr>\n",
       "\t<tr><th scope=col>&lt;dbl&gt;</th><th scope=col>&lt;dbl&gt;</th><th scope=col>&lt;chr&gt;</th><th scope=col>&lt;dbl&gt;</th><th scope=col>&lt;dbl&gt;</th></tr>\n",
       "</thead>\n",
       "<tbody>\n",
       "\t<tr><td>46</td><td>83</td><td>0.00</td><td>13</td><td>29.99</td></tr>\n",
       "\t<tr><td>48</td><td>53</td><td>0.00</td><td> 6</td><td>30.03</td></tr>\n",
       "\t<tr><td>89</td><td>36</td><td>0.00</td><td>13</td><td>30.12</td></tr>\n",
       "\t<tr><td>48</td><td>36</td><td>0.00</td><td>14</td><td>29.80</td></tr>\n",
       "\t<tr><td>61</td><td>39</td><td>T   </td><td>11</td><td>30.50</td></tr>\n",
       "\t<tr><td>79</td><td>41</td><td>0.00</td><td> 6</td><td>29.92</td></tr>\n",
       "\t<tr><td>51</td><td>19</td><td>0.00</td><td> 0</td><td>30.40</td></tr>\n",
       "\t<tr><td>65</td><td>24</td><td>0.00</td><td>11</td><td>30.35</td></tr>\n",
       "\t<tr><td>90</td><td>54</td><td>0.06</td><td>11</td><td>30.03</td></tr>\n",
       "\t<tr><td>94</td><td>73</td><td>NA  </td><td> 5</td><td>29.91</td></tr>\n",
       "</tbody>\n",
       "</table>\n"
      ],
      "text/latex": [
       "A tibble: 10 × 5\n",
       "\\begin{tabular}{lllll}\n",
       " HOURLYRelativeHumidity & HOURLYDRYBULBTEMPF & HOURLYPrecip & HOURLYWindSpeed & HOURLYStationPressure\\\\\n",
       " <dbl> & <dbl> & <chr> & <dbl> & <dbl>\\\\\n",
       "\\hline\n",
       "\t 46 & 83 & 0.00 & 13 & 29.99\\\\\n",
       "\t 48 & 53 & 0.00 &  6 & 30.03\\\\\n",
       "\t 89 & 36 & 0.00 & 13 & 30.12\\\\\n",
       "\t 48 & 36 & 0.00 & 14 & 29.80\\\\\n",
       "\t 61 & 39 & T    & 11 & 30.50\\\\\n",
       "\t 79 & 41 & 0.00 &  6 & 29.92\\\\\n",
       "\t 51 & 19 & 0.00 &  0 & 30.40\\\\\n",
       "\t 65 & 24 & 0.00 & 11 & 30.35\\\\\n",
       "\t 90 & 54 & 0.06 & 11 & 30.03\\\\\n",
       "\t 94 & 73 & NA   &  5 & 29.91\\\\\n",
       "\\end{tabular}\n"
      ],
      "text/markdown": [
       "\n",
       "A tibble: 10 × 5\n",
       "\n",
       "| HOURLYRelativeHumidity &lt;dbl&gt; | HOURLYDRYBULBTEMPF &lt;dbl&gt; | HOURLYPrecip &lt;chr&gt; | HOURLYWindSpeed &lt;dbl&gt; | HOURLYStationPressure &lt;dbl&gt; |\n",
       "|---|---|---|---|---|\n",
       "| 46 | 83 | 0.00 | 13 | 29.99 |\n",
       "| 48 | 53 | 0.00 |  6 | 30.03 |\n",
       "| 89 | 36 | 0.00 | 13 | 30.12 |\n",
       "| 48 | 36 | 0.00 | 14 | 29.80 |\n",
       "| 61 | 39 | T    | 11 | 30.50 |\n",
       "| 79 | 41 | 0.00 |  6 | 29.92 |\n",
       "| 51 | 19 | 0.00 |  0 | 30.40 |\n",
       "| 65 | 24 | 0.00 | 11 | 30.35 |\n",
       "| 90 | 54 | 0.06 | 11 | 30.03 |\n",
       "| 94 | 73 | NA   |  5 | 29.91 |\n",
       "\n"
      ],
      "text/plain": [
       "   HOURLYRelativeHumidity HOURLYDRYBULBTEMPF HOURLYPrecip HOURLYWindSpeed\n",
       "1  46                     83                 0.00         13             \n",
       "2  48                     53                 0.00          6             \n",
       "3  89                     36                 0.00         13             \n",
       "4  48                     36                 0.00         14             \n",
       "5  61                     39                 T            11             \n",
       "6  79                     41                 0.00          6             \n",
       "7  51                     19                 0.00          0             \n",
       "8  65                     24                 0.00         11             \n",
       "9  90                     54                 0.06         11             \n",
       "10 94                     73                 NA            5             \n",
       "   HOURLYStationPressure\n",
       "1  29.99                \n",
       "2  30.03                \n",
       "3  30.12                \n",
       "4  29.80                \n",
       "5  30.50                \n",
       "6  29.92                \n",
       "7  30.40                \n",
       "8  30.35                \n",
       "9  30.03                \n",
       "10 29.91                "
      ]
     },
     "metadata": {},
     "output_type": "display_data"
    },
    {
     "data": {
      "text/html": [
       "<table>\n",
       "<caption>A tibble: 1 × 1</caption>\n",
       "<thead>\n",
       "\t<tr><th scope=col>n</th></tr>\n",
       "\t<tr><th scope=col>&lt;int&gt;</th></tr>\n",
       "</thead>\n",
       "<tbody>\n",
       "\t<tr><td>5727</td></tr>\n",
       "</tbody>\n",
       "</table>\n"
      ],
      "text/latex": [
       "A tibble: 1 × 1\n",
       "\\begin{tabular}{l}\n",
       " n\\\\\n",
       " <int>\\\\\n",
       "\\hline\n",
       "\t 5727\\\\\n",
       "\\end{tabular}\n"
      ],
      "text/markdown": [
       "\n",
       "A tibble: 1 × 1\n",
       "\n",
       "| n &lt;int&gt; |\n",
       "|---|\n",
       "| 5727 |\n",
       "\n"
      ],
      "text/plain": [
       "  n   \n",
       "1 5727"
      ]
     },
     "metadata": {},
     "output_type": "display_data"
    }
   ],
   "source": [
    "head(nooa_col_select,10)\n",
    "count(nooa_col_select)"
   ]
  },
  {
   "cell_type": "markdown",
   "metadata": {},
   "source": [
    "<a id=\"cell4\"></a>\n",
    "\n",
    "## 4. Clean Up Columns\n",
    "\n",
    "From the dataframe preview above, we can see that the column `HOURLYPrecip` - which is the hourly measure of precipitation levels - contains both `NA` and `T` values. `T` specifies *trace amounts of precipitation* (meaning essentially no precipitation), while `NA` means *not available*, and is used to denote missing values. Additionally, some values also have \"s\" at the end of them, indicating that the precipitation was snow.\n",
    "\n",
    "Inspect the unique values present in the column `HOURLYPrecip` (with `unique(dataframe$column)`) to see these values.\n"
   ]
  },
  {
   "cell_type": "code",
   "execution_count": 10,
   "metadata": {},
   "outputs": [
    {
     "data": {
      "text/html": [
       "<style>\n",
       ".list-inline {list-style: none; margin:0; padding: 0}\n",
       ".list-inline>li {display: inline-block}\n",
       ".list-inline>li:not(:last-child)::after {content: \"\\00b7\"; padding: 0 .5ex}\n",
       "</style>\n",
       "<ol class=list-inline><li>'0.00'</li><li>'T'</li><li>'0.06'</li><li>NA</li><li>'0.03'</li><li>'0.02'</li><li>'0.08'</li><li>'0.01'</li><li>'0.07'</li><li>'0.16'</li><li>'0.09'</li><li>'0.22'</li><li>'0.02s'</li><li>'0.24'</li><li>'0.18'</li><li>'0.05'</li><li>'0.04'</li><li>'0.09s'</li><li>'0.11'</li><li>'0.14'</li><li>'0.25'</li><li>'0.10'</li><li>'0.01s'</li><li>'0.58'</li><li>'0.12'</li><li>'0.13'</li><li>'0.46'</li><li>'1.07'</li><li>'1.19'</li><li>'0.34'</li><li>'0.20'</li><li>'0.36s'</li><li>'0.42'</li><li>'0.17'</li><li>'0.27'</li><li>'0.35'</li><li>'0.31'</li><li>'0.33'</li><li>'0.23'</li><li>'0.26'</li><li>'0.28'</li><li>'0.75'</li><li>'0.19'</li><li>'0.36'</li><li>'0.03s'</li><li>'0.07s'</li><li>'0.54'</li><li>'0.59'</li><li>'0.21'</li></ol>\n"
      ],
      "text/latex": [
       "\\begin{enumerate*}\n",
       "\\item '0.00'\n",
       "\\item 'T'\n",
       "\\item '0.06'\n",
       "\\item NA\n",
       "\\item '0.03'\n",
       "\\item '0.02'\n",
       "\\item '0.08'\n",
       "\\item '0.01'\n",
       "\\item '0.07'\n",
       "\\item '0.16'\n",
       "\\item '0.09'\n",
       "\\item '0.22'\n",
       "\\item '0.02s'\n",
       "\\item '0.24'\n",
       "\\item '0.18'\n",
       "\\item '0.05'\n",
       "\\item '0.04'\n",
       "\\item '0.09s'\n",
       "\\item '0.11'\n",
       "\\item '0.14'\n",
       "\\item '0.25'\n",
       "\\item '0.10'\n",
       "\\item '0.01s'\n",
       "\\item '0.58'\n",
       "\\item '0.12'\n",
       "\\item '0.13'\n",
       "\\item '0.46'\n",
       "\\item '1.07'\n",
       "\\item '1.19'\n",
       "\\item '0.34'\n",
       "\\item '0.20'\n",
       "\\item '0.36s'\n",
       "\\item '0.42'\n",
       "\\item '0.17'\n",
       "\\item '0.27'\n",
       "\\item '0.35'\n",
       "\\item '0.31'\n",
       "\\item '0.33'\n",
       "\\item '0.23'\n",
       "\\item '0.26'\n",
       "\\item '0.28'\n",
       "\\item '0.75'\n",
       "\\item '0.19'\n",
       "\\item '0.36'\n",
       "\\item '0.03s'\n",
       "\\item '0.07s'\n",
       "\\item '0.54'\n",
       "\\item '0.59'\n",
       "\\item '0.21'\n",
       "\\end{enumerate*}\n"
      ],
      "text/markdown": [
       "1. '0.00'\n",
       "2. 'T'\n",
       "3. '0.06'\n",
       "4. NA\n",
       "5. '0.03'\n",
       "6. '0.02'\n",
       "7. '0.08'\n",
       "8. '0.01'\n",
       "9. '0.07'\n",
       "10. '0.16'\n",
       "11. '0.09'\n",
       "12. '0.22'\n",
       "13. '0.02s'\n",
       "14. '0.24'\n",
       "15. '0.18'\n",
       "16. '0.05'\n",
       "17. '0.04'\n",
       "18. '0.09s'\n",
       "19. '0.11'\n",
       "20. '0.14'\n",
       "21. '0.25'\n",
       "22. '0.10'\n",
       "23. '0.01s'\n",
       "24. '0.58'\n",
       "25. '0.12'\n",
       "26. '0.13'\n",
       "27. '0.46'\n",
       "28. '1.07'\n",
       "29. '1.19'\n",
       "30. '0.34'\n",
       "31. '0.20'\n",
       "32. '0.36s'\n",
       "33. '0.42'\n",
       "34. '0.17'\n",
       "35. '0.27'\n",
       "36. '0.35'\n",
       "37. '0.31'\n",
       "38. '0.33'\n",
       "39. '0.23'\n",
       "40. '0.26'\n",
       "41. '0.28'\n",
       "42. '0.75'\n",
       "43. '0.19'\n",
       "44. '0.36'\n",
       "45. '0.03s'\n",
       "46. '0.07s'\n",
       "47. '0.54'\n",
       "48. '0.59'\n",
       "49. '0.21'\n",
       "\n",
       "\n"
      ],
      "text/plain": [
       " [1] \"0.00\"  \"T\"     \"0.06\"  NA      \"0.03\"  \"0.02\"  \"0.08\"  \"0.01\"  \"0.07\" \n",
       "[10] \"0.16\"  \"0.09\"  \"0.22\"  \"0.02s\" \"0.24\"  \"0.18\"  \"0.05\"  \"0.04\"  \"0.09s\"\n",
       "[19] \"0.11\"  \"0.14\"  \"0.25\"  \"0.10\"  \"0.01s\" \"0.58\"  \"0.12\"  \"0.13\"  \"0.46\" \n",
       "[28] \"1.07\"  \"1.19\"  \"0.34\"  \"0.20\"  \"0.36s\" \"0.42\"  \"0.17\"  \"0.27\"  \"0.35\" \n",
       "[37] \"0.31\"  \"0.33\"  \"0.23\"  \"0.26\"  \"0.28\"  \"0.75\"  \"0.19\"  \"0.36\"  \"0.03s\"\n",
       "[46] \"0.07s\" \"0.54\"  \"0.59\"  \"0.21\" "
      ]
     },
     "metadata": {},
     "output_type": "display_data"
    },
    {
     "data": {
      "text/html": [
       "49"
      ],
      "text/latex": [
       "49"
      ],
      "text/markdown": [
       "49"
      ],
      "text/plain": [
       "[1] 49"
      ]
     },
     "metadata": {},
     "output_type": "display_data"
    }
   ],
   "source": [
    "uniq_col <- unique(nooa_col_select$HOURLYPrecip)\n",
    "#find unique values in HOURLYPrecip colum of the selected columns\n",
    "uniq_col\n",
    "\n",
    "#count the number of unique enteries in the HOURLYPrecip column\n",
    "length(uniq_col)"
   ]
  },
  {
   "cell_type": "markdown",
   "metadata": {},
   "source": [
    "Having characters in values (like the \"T\" and \"s\" that you see in the unique values) will cause problems when you create a model because values for precipitation should be numerical. So you need to fix these values that have characters.\n",
    "\n",
    "Now, for the column `HOURLYPrecip`:\n",
    "\n",
    "1.  Replace all the `T` values with \"0.0\" and\n",
    "2.  Remove \"s\" from values like \"0.02s\". In R, you can use the method `str_remove(column, pattern = \"s$\")` to remove the character \"s\" from the end of values. The \"$\" tells R to match to the end of values. The `pattern` is a regex pattern. Look at [here](https://www.rdocumentation.org/packages/stringi/versions/1.5.3/topics/about_search_regex?utm_medium=Exinfluencer&utm_source=Exinfluencer&utm_content=000026UJ&utm_term=10006555&utm_id=NA-SkillsNetwork-Channel-SkillsNetworkCoursesIBMDA0151ENSkillsNetwork21582452-2021-01-01) for more information about regex and matching to strings in R.\n",
    "\n",
    "Remember that you can use `tidyverse`'s  `mutate()` to update columns.\n",
    "\n",
    "You can check your work by checking if unique values of `HOURLYPrecip` still contain any `T` or `s`. Store the modified dataframe as a new variable.\n"
   ]
  },
  {
   "cell_type": "code",
   "execution_count": 11,
   "metadata": {},
   "outputs": [
    {
     "data": {
      "text/html": [
       "<style>\n",
       ".list-inline {list-style: none; margin:0; padding: 0}\n",
       ".list-inline>li {display: inline-block}\n",
       ".list-inline>li:not(:last-child)::after {content: \"\\00b7\"; padding: 0 .5ex}\n",
       "</style>\n",
       "<ol class=list-inline><li>'0.00'</li><li>'0.06'</li><li>NA</li><li>'0.03'</li><li>'0.02'</li><li>'0.08'</li><li>'0.01'</li><li>'0.07'</li><li>'0.16'</li><li>'0.09'</li><li>'0.22'</li><li>'0.24'</li><li>'0.18'</li><li>'0.05'</li><li>'0.04'</li><li>'0.11'</li><li>'0.14'</li><li>'0.25'</li><li>'0.10'</li><li>'0.58'</li><li>'0.12'</li><li>'0.13'</li><li>'0.46'</li><li>'1.07'</li><li>'1.19'</li><li>'0.34'</li><li>'0.20'</li><li>'0.36'</li><li>'0.42'</li><li>'0.17'</li><li>'0.27'</li><li>'0.35'</li><li>'0.31'</li><li>'0.33'</li><li>'0.23'</li><li>'0.26'</li><li>'0.28'</li><li>'0.75'</li><li>'0.19'</li><li>'0.54'</li><li>'0.59'</li><li>'0.21'</li></ol>\n"
      ],
      "text/latex": [
       "\\begin{enumerate*}\n",
       "\\item '0.00'\n",
       "\\item '0.06'\n",
       "\\item NA\n",
       "\\item '0.03'\n",
       "\\item '0.02'\n",
       "\\item '0.08'\n",
       "\\item '0.01'\n",
       "\\item '0.07'\n",
       "\\item '0.16'\n",
       "\\item '0.09'\n",
       "\\item '0.22'\n",
       "\\item '0.24'\n",
       "\\item '0.18'\n",
       "\\item '0.05'\n",
       "\\item '0.04'\n",
       "\\item '0.11'\n",
       "\\item '0.14'\n",
       "\\item '0.25'\n",
       "\\item '0.10'\n",
       "\\item '0.58'\n",
       "\\item '0.12'\n",
       "\\item '0.13'\n",
       "\\item '0.46'\n",
       "\\item '1.07'\n",
       "\\item '1.19'\n",
       "\\item '0.34'\n",
       "\\item '0.20'\n",
       "\\item '0.36'\n",
       "\\item '0.42'\n",
       "\\item '0.17'\n",
       "\\item '0.27'\n",
       "\\item '0.35'\n",
       "\\item '0.31'\n",
       "\\item '0.33'\n",
       "\\item '0.23'\n",
       "\\item '0.26'\n",
       "\\item '0.28'\n",
       "\\item '0.75'\n",
       "\\item '0.19'\n",
       "\\item '0.54'\n",
       "\\item '0.59'\n",
       "\\item '0.21'\n",
       "\\end{enumerate*}\n"
      ],
      "text/markdown": [
       "1. '0.00'\n",
       "2. '0.06'\n",
       "3. NA\n",
       "4. '0.03'\n",
       "5. '0.02'\n",
       "6. '0.08'\n",
       "7. '0.01'\n",
       "8. '0.07'\n",
       "9. '0.16'\n",
       "10. '0.09'\n",
       "11. '0.22'\n",
       "12. '0.24'\n",
       "13. '0.18'\n",
       "14. '0.05'\n",
       "15. '0.04'\n",
       "16. '0.11'\n",
       "17. '0.14'\n",
       "18. '0.25'\n",
       "19. '0.10'\n",
       "20. '0.58'\n",
       "21. '0.12'\n",
       "22. '0.13'\n",
       "23. '0.46'\n",
       "24. '1.07'\n",
       "25. '1.19'\n",
       "26. '0.34'\n",
       "27. '0.20'\n",
       "28. '0.36'\n",
       "29. '0.42'\n",
       "30. '0.17'\n",
       "31. '0.27'\n",
       "32. '0.35'\n",
       "33. '0.31'\n",
       "34. '0.33'\n",
       "35. '0.23'\n",
       "36. '0.26'\n",
       "37. '0.28'\n",
       "38. '0.75'\n",
       "39. '0.19'\n",
       "40. '0.54'\n",
       "41. '0.59'\n",
       "42. '0.21'\n",
       "\n",
       "\n"
      ],
      "text/plain": [
       " [1] \"0.00\" \"0.06\" NA     \"0.03\" \"0.02\" \"0.08\" \"0.01\" \"0.07\" \"0.16\" \"0.09\"\n",
       "[11] \"0.22\" \"0.24\" \"0.18\" \"0.05\" \"0.04\" \"0.11\" \"0.14\" \"0.25\" \"0.10\" \"0.58\"\n",
       "[21] \"0.12\" \"0.13\" \"0.46\" \"1.07\" \"1.19\" \"0.34\" \"0.20\" \"0.36\" \"0.42\" \"0.17\"\n",
       "[31] \"0.27\" \"0.35\" \"0.31\" \"0.33\" \"0.23\" \"0.26\" \"0.28\" \"0.75\" \"0.19\" \"0.54\"\n",
       "[41] \"0.59\" \"0.21\""
      ]
     },
     "metadata": {},
     "output_type": "display_data"
    }
   ],
   "source": [
    "#replacing all T with 0.0\n",
    "T_index <- which (nooa_col_select$HOURLYPrecip==\"T\")\n",
    "nooa_col_processT <- nooa_col_select %>% mutate(HOURLYPrecip = replace(nooa_col_select$HOURLYPrecip, (T_index), as.character(\"0.00\")))\n",
    "#replacing all s-ending values in \"HOURLYPrecipT\" column\n",
    "nooa_col_processT$HOURLYPrecip <- str_remove(nooa_col_processT$HOURLYPrecip, pattern = \"s$\")\n",
    "                               \n",
    "#head(nooa_col_processT,10)\n",
    "#count(nooa_col_processT)\n",
    "\n",
    "uniq2 <- unique(nooa_col_processT$HOURLYPrecip)\n",
    "uniq2\n",
    "#length(uniq2)"
   ]
  },
  {
   "cell_type": "markdown",
   "metadata": {},
   "source": [
    "<a id=\"cell5\"></a>\n",
    "\n",
    "## 5. Convert Columns to Numerical Types\n",
    "\n",
    "Now that you have removed the characters in the `HOURLYPrecip` column, you can safely covert the column to a numeric type.\n",
    "\n",
    "First, check the types of the columns. You will notice that all are `dbl` (double or numeric) except for `HOURLYPrecip`, which is `chr` (character or string). Use the `glimpse` function from Tidyverse.\n"
   ]
  },
  {
   "cell_type": "code",
   "execution_count": 12,
   "metadata": {},
   "outputs": [
    {
     "name": "stdout",
     "output_type": "stream",
     "text": [
      "Rows: 5,727\n",
      "Columns: 5\n",
      "$ HOURLYRelativeHumidity <dbl> 46, 48, 89, 48, 61, 79, 51, 65, 90, 94, 79, 37,…\n",
      "$ HOURLYDRYBULBTEMPF     <dbl> 83, 53, 36, 36, 39, 41, 19, 24, 54, 73, 83, 44,…\n",
      "$ HOURLYPrecip           <chr> \"0.00\", \"0.00\", \"0.00\", \"0.00\", \"0.00\", \"0.00\",…\n",
      "$ HOURLYWindSpeed        <dbl> 13, 6, 13, 14, 11, 6, 0, 11, 11, 5, 21, 7, 17, …\n",
      "$ HOURLYStationPressure  <dbl> 29.99, 30.03, 30.12, 29.80, 30.50, 29.92, 30.40…\n"
     ]
    }
   ],
   "source": [
    "glimpse(nooa_col_processT)"
   ]
  },
  {
   "cell_type": "markdown",
   "metadata": {},
   "source": [
    "Convert `HOURLYPrecip` to the `numeric` type and store the cleaned dataframe as a new variable.\n"
   ]
  },
  {
   "cell_type": "code",
   "execution_count": 13,
   "metadata": {},
   "outputs": [
    {
     "data": {
      "text/html": [
       "<table>\n",
       "<caption>A tibble: 1 × 1</caption>\n",
       "<thead>\n",
       "\t<tr><th scope=col>col_count</th></tr>\n",
       "\t<tr><th scope=col>&lt;int&gt;</th></tr>\n",
       "</thead>\n",
       "<tbody>\n",
       "\t<tr><td>4067</td></tr>\n",
       "</tbody>\n",
       "</table>\n"
      ],
      "text/latex": [
       "A tibble: 1 × 1\n",
       "\\begin{tabular}{l}\n",
       " col\\_count\\\\\n",
       " <int>\\\\\n",
       "\\hline\n",
       "\t 4067\\\\\n",
       "\\end{tabular}\n"
      ],
      "text/markdown": [
       "\n",
       "A tibble: 1 × 1\n",
       "\n",
       "| col_count &lt;int&gt; |\n",
       "|---|\n",
       "| 4067 |\n",
       "\n"
      ],
      "text/plain": [
       "  col_count\n",
       "1 4067     "
      ]
     },
     "metadata": {},
     "output_type": "display_data"
    },
    {
     "data": {
      "text/html": [
       "<dl>\n",
       "\t<dt>$HOURLYRelativeHumidity</dt>\n",
       "\t\t<dd>0</dd>\n",
       "\t<dt>$HOURLYDRYBULBTEMPF</dt>\n",
       "\t\t<dd>0</dd>\n",
       "\t<dt>$HOURLYPrecip</dt>\n",
       "\t\t<dd>0</dd>\n",
       "\t<dt>$HOURLYWindSpeed</dt>\n",
       "\t\t<dd>0</dd>\n",
       "\t<dt>$HOURLYStationPressure</dt>\n",
       "\t\t<dd>0</dd>\n",
       "</dl>\n"
      ],
      "text/latex": [
       "\\begin{description}\n",
       "\\item[\\$HOURLYRelativeHumidity] 0\n",
       "\\item[\\$HOURLYDRYBULBTEMPF] 0\n",
       "\\item[\\$HOURLYPrecip] 0\n",
       "\\item[\\$HOURLYWindSpeed] 0\n",
       "\\item[\\$HOURLYStationPressure] 0\n",
       "\\end{description}\n"
      ],
      "text/markdown": [
       "$HOURLYRelativeHumidity\n",
       ":   0\n",
       "$HOURLYDRYBULBTEMPF\n",
       ":   0\n",
       "$HOURLYPrecip\n",
       ":   0\n",
       "$HOURLYWindSpeed\n",
       ":   0\n",
       "$HOURLYStationPressure\n",
       ":   0\n",
       "\n",
       "\n"
      ],
      "text/plain": [
       "$HOURLYRelativeHumidity\n",
       "[1] 0\n",
       "\n",
       "$HOURLYDRYBULBTEMPF\n",
       "[1] 0\n",
       "\n",
       "$HOURLYPrecip\n",
       "[1] 0\n",
       "\n",
       "$HOURLYWindSpeed\n",
       "[1] 0\n",
       "\n",
       "$HOURLYStationPressure\n",
       "[1] 0\n"
      ]
     },
     "metadata": {},
     "output_type": "display_data"
    },
    {
     "data": {
      "text/html": [
       "<table>\n",
       "<caption>A tibble: 1 × 1</caption>\n",
       "<thead>\n",
       "\t<tr><th scope=col>col_count2</th></tr>\n",
       "\t<tr><th scope=col>&lt;int&gt;</th></tr>\n",
       "</thead>\n",
       "<tbody>\n",
       "\t<tr><td>4063</td></tr>\n",
       "</tbody>\n",
       "</table>\n"
      ],
      "text/latex": [
       "A tibble: 1 × 1\n",
       "\\begin{tabular}{l}\n",
       " col\\_count2\\\\\n",
       " <int>\\\\\n",
       "\\hline\n",
       "\t 4063\\\\\n",
       "\\end{tabular}\n"
      ],
      "text/markdown": [
       "\n",
       "A tibble: 1 × 1\n",
       "\n",
       "| col_count2 &lt;int&gt; |\n",
       "|---|\n",
       "| 4063 |\n",
       "\n"
      ],
      "text/plain": [
       "  col_count2\n",
       "1 4063      "
      ]
     },
     "metadata": {},
     "output_type": "display_data"
    }
   ],
   "source": [
    "nooa_col_processT$HOURLYPrecip <- as.numeric(nooa_col_processT$HOURLYPrecip)\n",
    "# I will now drop the NA rows in the HOURLYPrecip column as it is likely to affect the model\n",
    "nooa_col_processT2 <- nooa_col_processT %>% drop_na(HOURLYPrecip)\n",
    "count(nooa_col_processT2) %>% rename(col_count = n)\n",
    "\n",
    "#checking NAs in columns again shows only HOURLYStaionPressure has 4 unknowns (NAs)\n",
    "#nooa_col_processT2 %>% map(~sum(is.na(.)))\n",
    "\n",
    "#droping NA in HOURLYStaionPressure\n",
    "nooa_col_processT2 <- nooa_col_processT2 %>% drop_na(HOURLYStationPressure)\n",
    "nooa_col_processT2 %>% map(~sum(is.na(.)))\n",
    "count(nooa_col_processT2) %>% rename(col_count2 = n)"
   ]
  },
  {
   "cell_type": "markdown",
   "metadata": {},
   "source": [
    "We can now see that all fields have numerical data type.\n"
   ]
  },
  {
   "cell_type": "code",
   "execution_count": 14,
   "metadata": {},
   "outputs": [
    {
     "name": "stdout",
     "output_type": "stream",
     "text": [
      "Rows: 4,063\n",
      "Columns: 5\n",
      "$ HOURLYRelativeHumidity <dbl> 46, 48, 89, 48, 61, 79, 51, 65, 90, 37, 72, 47,…\n",
      "$ HOURLYDRYBULBTEMPF     <dbl> 83, 53, 36, 36, 39, 41, 19, 24, 54, 44, 57, 78,…\n",
      "$ HOURLYPrecip           <dbl> 0.00, 0.00, 0.00, 0.00, 0.00, 0.00, 0.00, 0.00,…\n",
      "$ HOURLYWindSpeed        <dbl> 13, 6, 13, 14, 11, 6, 0, 11, 11, 7, 17, 8, 3, 1…\n",
      "$ HOURLYStationPressure  <dbl> 29.99, 30.03, 30.12, 29.80, 30.50, 29.92, 30.40…\n"
     ]
    }
   ],
   "source": [
    "glimpse(nooa_col_processT2)"
   ]
  },
  {
   "cell_type": "markdown",
   "metadata": {},
   "source": [
    "<a id=\"cell6\"></a>\n",
    "\n",
    "## 6. Rename Columns\n",
    "\n",
    "Let's rename the following columns as:\n",
    "\n",
    "*   'HOURLYRelativeHumidity' to 'relative_humidity'\n",
    "*   'HOURLYDRYBULBTEMPF' to 'dry_bulb_temp_f'\n",
    "*   'HOURLYPrecip' to 'precip'\n",
    "*   'HOURLYWindSpeed' to 'wind_speed'\n",
    "*   'HOURLYStationPressure' to 'station_pressure'\n",
    "\n",
    "You can use `dplyr::rename()`. Then, store the final dataframe as a new variable.\n"
   ]
  },
  {
   "cell_type": "code",
   "execution_count": 15,
   "metadata": {},
   "outputs": [
    {
     "data": {
      "text/html": [
       "<table>\n",
       "<caption>A tibble: 6 × 5</caption>\n",
       "<thead>\n",
       "\t<tr><th scope=col>relative_humidity</th><th scope=col>dry_bulb_temp_f</th><th scope=col>precip</th><th scope=col>wind_speed</th><th scope=col>station_pressure</th></tr>\n",
       "\t<tr><th scope=col>&lt;dbl&gt;</th><th scope=col>&lt;dbl&gt;</th><th scope=col>&lt;dbl&gt;</th><th scope=col>&lt;dbl&gt;</th><th scope=col>&lt;dbl&gt;</th></tr>\n",
       "</thead>\n",
       "<tbody>\n",
       "\t<tr><td>46</td><td>83</td><td>0</td><td>13</td><td>29.99</td></tr>\n",
       "\t<tr><td>48</td><td>53</td><td>0</td><td> 6</td><td>30.03</td></tr>\n",
       "\t<tr><td>89</td><td>36</td><td>0</td><td>13</td><td>30.12</td></tr>\n",
       "\t<tr><td>48</td><td>36</td><td>0</td><td>14</td><td>29.80</td></tr>\n",
       "\t<tr><td>61</td><td>39</td><td>0</td><td>11</td><td>30.50</td></tr>\n",
       "\t<tr><td>79</td><td>41</td><td>0</td><td> 6</td><td>29.92</td></tr>\n",
       "</tbody>\n",
       "</table>\n"
      ],
      "text/latex": [
       "A tibble: 6 × 5\n",
       "\\begin{tabular}{lllll}\n",
       " relative\\_humidity & dry\\_bulb\\_temp\\_f & precip & wind\\_speed & station\\_pressure\\\\\n",
       " <dbl> & <dbl> & <dbl> & <dbl> & <dbl>\\\\\n",
       "\\hline\n",
       "\t 46 & 83 & 0 & 13 & 29.99\\\\\n",
       "\t 48 & 53 & 0 &  6 & 30.03\\\\\n",
       "\t 89 & 36 & 0 & 13 & 30.12\\\\\n",
       "\t 48 & 36 & 0 & 14 & 29.80\\\\\n",
       "\t 61 & 39 & 0 & 11 & 30.50\\\\\n",
       "\t 79 & 41 & 0 &  6 & 29.92\\\\\n",
       "\\end{tabular}\n"
      ],
      "text/markdown": [
       "\n",
       "A tibble: 6 × 5\n",
       "\n",
       "| relative_humidity &lt;dbl&gt; | dry_bulb_temp_f &lt;dbl&gt; | precip &lt;dbl&gt; | wind_speed &lt;dbl&gt; | station_pressure &lt;dbl&gt; |\n",
       "|---|---|---|---|---|\n",
       "| 46 | 83 | 0 | 13 | 29.99 |\n",
       "| 48 | 53 | 0 |  6 | 30.03 |\n",
       "| 89 | 36 | 0 | 13 | 30.12 |\n",
       "| 48 | 36 | 0 | 14 | 29.80 |\n",
       "| 61 | 39 | 0 | 11 | 30.50 |\n",
       "| 79 | 41 | 0 |  6 | 29.92 |\n",
       "\n"
      ],
      "text/plain": [
       "  relative_humidity dry_bulb_temp_f precip wind_speed station_pressure\n",
       "1 46                83              0      13         29.99           \n",
       "2 48                53              0       6         30.03           \n",
       "3 89                36              0      13         30.12           \n",
       "4 48                36              0      14         29.80           \n",
       "5 61                39              0      11         30.50           \n",
       "6 79                41              0       6         29.92           "
      ]
     },
     "metadata": {},
     "output_type": "display_data"
    }
   ],
   "source": [
    "nooaFinal_df <- nooa_col_processT2 %>% rename(relative_humidity = HOURLYRelativeHumidity,\n",
    "                            dry_bulb_temp_f = HOURLYDRYBULBTEMPF,\n",
    "                            precip = HOURLYPrecip,\n",
    "                            wind_speed = HOURLYWindSpeed,\n",
    "                            station_pressure = HOURLYStationPressure)\n",
    "# length(nooaFinal_df) gives the number of columns as 5\n",
    "#count(nooaFinal_df) %>% rename(final_col_count = n) shows the number of columns in the dataframe\n",
    "head(nooaFinal_df)"
   ]
  },
  {
   "cell_type": "markdown",
   "metadata": {},
   "source": [
    "<a id=\"cell7\"></a>\n",
    "\n",
    "## 7. Exploratory Data Analysis\n",
    "\n",
    "Now that you have finished preprocessing the dataset, you can can start exploring the columns more.\n",
    "\n",
    "First, split the data into a training and testing set. Splitting a dataset is done randomly, so to have reproducible results set the seed = 1234. Also, use 80% of the data for training.\n"
   ]
  },
  {
   "cell_type": "code",
   "execution_count": 16,
   "metadata": {},
   "outputs": [],
   "source": [
    "# I will like to use the last_fit() function which automatically know does the training and testing based on the split\n",
    "set.seed(1234)\n",
    "nooa_split <- initial_split(nooaFinal_df, prop = 0.8)\n",
    "train_data <- training(nooa_split)\n",
    "test_data <- testing(nooa_split)"
   ]
  },
  {
   "cell_type": "markdown",
   "metadata": {},
   "source": [
    "Next, looking at just the **training set**, plot histograms or box plots of the variables (`relative_humidity`, `dry_bulb_temp_f`, `precip`, `wind_speed`,  `station_pressure`) for an intial look of their distributions using `tidyverse`'s `ggplot`. Leave the testing set as is because it is good practice to not see the testing set until evaluating the final model.\n"
   ]
  },
  {
   "cell_type": "code",
   "execution_count": 17,
   "metadata": {},
   "outputs": [
    {
     "name": "stderr",
     "output_type": "stream",
     "text": [
      "`stat_bin()` using `bins = 30`. Pick better value with `binwidth`.\n"
     ]
    },
    {
     "data": {},
     "metadata": {},
     "output_type": "display_data"
    },
    {
     "data": {},
     "metadata": {},
     "output_type": "display_data"
    },
    {
     "data": {
      "image/png": "[encoded data removed]",
      "text/plain": [
       "plot without title"
      ]
     },
     "metadata": {},
     "output_type": "display_data",
     "source": "R display func"
    },
    {
     "name": "stderr",
     "output_type": "stream",
     "text": [
      "`stat_bin()` using `bins = 30`. Pick better value with `binwidth`.\n"
     ]
    },
    {
     "data": {},
     "metadata": {},
     "output_type": "display_data"
    },
    {
     "data": {
      "image/png": "[encoded data removed]",
      "text/plain": [
       "plot without title"
      ]
     },
     "metadata": {},
     "output_type": "display_data",
     "source": "R display func"
    },
    {
     "data": {},
     "metadata": {},
     "output_type": "display_data"
    },
    {
     "data": {
      "image/png": "[encoded data removed]",
      "text/plain": [
       "plot without title"
      ]
     },
     "metadata": {},
     "output_type": "display_data",
     "source": "R display func"
    },
    {
     "name": "stderr",
     "output_type": "stream",
     "text": [
      "`stat_bin()` using `bins = 30`. Pick better value with `binwidth`.\n"
     ]
    },
    {
     "data": {},
     "metadata": {},
     "output_type": "display_data"
    },
    {
     "data": {
      "image/png": "[encoded data removed]",
      "text/plain": [
       "plot without title"
      ]
     },
     "metadata": {},
     "output_type": "display_data",
     "source": "R display func"
    },
    {
     "data": {
      "image/png": "[encoded data removed]",
      "text/plain": [
       "plot without title"
      ]
     },
     "metadata": {},
     "output_type": "display_data",
     "source": "R display func"
    }
   ],
   "source": [
    "train_data %>% ggplot(aes(x=dry_bulb_temp_f)) +\n",
    "                geom_histogram()\n",
    "\n",
    "train_data %>% ggplot(aes(x=relative_humidity)) +\n",
    "                geom_histogram(binwidth=10)\n",
    "\n",
    "train_data %>% ggplot(aes(x=precip)) +\n",
    "                geom_histogram()\n",
    "\n",
    "train_data %>% ggplot(aes(x=wind_speed)) +\n",
    "                geom_histogram(binwidth=3)\n",
    "\n",
    "train_data %>% ggplot(aes(x=station_pressure)) +\n",
    "                geom_histogram()\n",
    "#rlt <- unique(train_data$relative_humidity)\n",
    "#sort(rlt)"
   ]
  },
  {
   "cell_type": "markdown",
   "metadata": {},
   "source": [
    "<a id=\"cell8\"></a>\n",
    "\n",
    "## 8. Linear Regression\n",
    "\n",
    "After exploring the dataset more, you are now ready to start creating models to predict the precipitation (`precip`).\n",
    "\n",
    "Create <b>simple linear regression models</b> where `precip` is the response variable and each of `relative_humidity`, `dry_bulb_temp_f`,`wind_speed` or `station_pressure` will be a predictor variable, e.g. `precip ~ relative_humidity`, `precip ~ dry_bulb_temp_f`, etc. for a total of four simple models.\n",
    "Additionally, visualize each simple model with a scatter plot.\n"
   ]
  },
  {
   "cell_type": "code",
   "execution_count": 18,
   "metadata": {},
   "outputs": [
    {
     "data": {
      "text/html": [
       "<table>\n",
       "<caption>A tibble: 6 × 2</caption>\n",
       "<thead>\n",
       "\t<tr><th scope=col>.pred</th><th scope=col>truth</th></tr>\n",
       "\t<tr><th scope=col>&lt;dbl&gt;</th><th scope=col>&lt;dbl&gt;</th></tr>\n",
       "</thead>\n",
       "<tbody>\n",
       "\t<tr><td>-0.0008763121</td><td>0.00</td></tr>\n",
       "\t<tr><td>-0.0020764149</td><td>0.00</td></tr>\n",
       "\t<tr><td> 0.0003237907</td><td>0.00</td></tr>\n",
       "\t<tr><td> 0.0187253667</td><td>0.00</td></tr>\n",
       "\t<tr><td> 0.0143249899</td><td>0.02</td></tr>\n",
       "\t<tr><td> 0.0103246472</td><td>0.00</td></tr>\n",
       "</tbody>\n",
       "</table>\n"
      ],
      "text/latex": [
       "A tibble: 6 × 2\n",
       "\\begin{tabular}{ll}\n",
       " .pred & truth\\\\\n",
       " <dbl> & <dbl>\\\\\n",
       "\\hline\n",
       "\t -0.0008763121 & 0.00\\\\\n",
       "\t -0.0020764149 & 0.00\\\\\n",
       "\t  0.0003237907 & 0.00\\\\\n",
       "\t  0.0187253667 & 0.00\\\\\n",
       "\t  0.0143249899 & 0.02\\\\\n",
       "\t  0.0103246472 & 0.00\\\\\n",
       "\\end{tabular}\n"
      ],
      "text/markdown": [
       "\n",
       "A tibble: 6 × 2\n",
       "\n",
       "| .pred &lt;dbl&gt; | truth &lt;dbl&gt; |\n",
       "|---|---|\n",
       "| -0.0008763121 | 0.00 |\n",
       "| -0.0020764149 | 0.00 |\n",
       "|  0.0003237907 | 0.00 |\n",
       "|  0.0187253667 | 0.00 |\n",
       "|  0.0143249899 | 0.02 |\n",
       "|  0.0103246472 | 0.00 |\n",
       "\n"
      ],
      "text/plain": [
       "  .pred         truth\n",
       "1 -0.0008763121 0.00 \n",
       "2 -0.0020764149 0.00 \n",
       "3  0.0003237907 0.00 \n",
       "4  0.0187253667 0.00 \n",
       "5  0.0143249899 0.02 \n",
       "6  0.0103246472 0.00 "
      ]
     },
     "metadata": {},
     "output_type": "display_data"
    },
    {
     "data": {
      "text/html": [
       "<table>\n",
       "<caption>A tibble: 1 × 3</caption>\n",
       "<thead>\n",
       "\t<tr><th scope=col>.metric</th><th scope=col>.estimator</th><th scope=col>.estimate</th></tr>\n",
       "\t<tr><th scope=col>&lt;chr&gt;</th><th scope=col>&lt;chr&gt;</th><th scope=col>&lt;dbl&gt;</th></tr>\n",
       "</thead>\n",
       "<tbody>\n",
       "\t<tr><td>rmse</td><td>standard</td><td>0.03609711</td></tr>\n",
       "</tbody>\n",
       "</table>\n"
      ],
      "text/latex": [
       "A tibble: 1 × 3\n",
       "\\begin{tabular}{lll}\n",
       " .metric & .estimator & .estimate\\\\\n",
       " <chr> & <chr> & <dbl>\\\\\n",
       "\\hline\n",
       "\t rmse & standard & 0.03609711\\\\\n",
       "\\end{tabular}\n"
      ],
      "text/markdown": [
       "\n",
       "A tibble: 1 × 3\n",
       "\n",
       "| .metric &lt;chr&gt; | .estimator &lt;chr&gt; | .estimate &lt;dbl&gt; |\n",
       "|---|---|---|\n",
       "| rmse | standard | 0.03609711 |\n",
       "\n"
      ],
      "text/plain": [
       "  .metric .estimator .estimate \n",
       "1 rmse    standard   0.03609711"
      ]
     },
     "metadata": {},
     "output_type": "display_data"
    },
    {
     "data": {
      "text/html": [
       "<table>\n",
       "<caption>A tibble: 1 × 3</caption>\n",
       "<thead>\n",
       "\t<tr><th scope=col>.metric</th><th scope=col>.estimator</th><th scope=col>.estimate</th></tr>\n",
       "\t<tr><th scope=col>&lt;chr&gt;</th><th scope=col>&lt;chr&gt;</th><th scope=col>&lt;dbl&gt;</th></tr>\n",
       "</thead>\n",
       "<tbody>\n",
       "\t<tr><td>rsq</td><td>standard</td><td>0.04623469</td></tr>\n",
       "</tbody>\n",
       "</table>\n"
      ],
      "text/latex": [
       "A tibble: 1 × 3\n",
       "\\begin{tabular}{lll}\n",
       " .metric & .estimator & .estimate\\\\\n",
       " <chr> & <chr> & <dbl>\\\\\n",
       "\\hline\n",
       "\t rsq & standard & 0.04623469\\\\\n",
       "\\end{tabular}\n"
      ],
      "text/markdown": [
       "\n",
       "A tibble: 1 × 3\n",
       "\n",
       "| .metric &lt;chr&gt; | .estimator &lt;chr&gt; | .estimate &lt;dbl&gt; |\n",
       "|---|---|---|\n",
       "| rsq | standard | 0.04623469 |\n",
       "\n"
      ],
      "text/plain": [
       "  .metric .estimator .estimate \n",
       "1 rsq     standard   0.04623469"
      ]
     },
     "metadata": {},
     "output_type": "display_data"
    },
    {
     "data": {},
     "metadata": {},
     "output_type": "display_data"
    },
    {
     "data": {
      "image/png": "[encoded data removed]",
      "text/plain": [
       "plot without title"
      ]
     },
     "metadata": {},
     "output_type": "display_data",
     "source": "R display func"
    }
   ],
   "source": [
    "lm_spec <- linear_reg() %>% set_engine(\"lm\")\n",
    "simple_lm_rh <- fit(lm_spec, precip ~ relative_humidity, data = train_data)\n",
    "\n",
    "lm_rh_results <- predict(simple_lm_rh, new_data = train_data) %>%\n",
    "                                        mutate(truth = train_data$precip)\n",
    "head(lm_rh_results)\n",
    "\n",
    "rmse(lm_rh_results, truth = truth, estimate = .pred)\n",
    "rsq(lm_rh_results, truth = truth, estimate = .pred)\n",
    "\n",
    "ggplot(train_data, aes(x = relative_humidity, y = precip)) +\n",
    "geom_point() +\n",
    "geom_smooth(method = \"lm\", col = \"red\", formula = y~x)"
   ]
  },
  {
   "cell_type": "code",
   "execution_count": 19,
   "metadata": {},
   "outputs": [
    {
     "data": {
      "text/html": [
       "<table>\n",
       "<caption>A tibble: 6 × 2</caption>\n",
       "<thead>\n",
       "\t<tr><th scope=col>.pred</th><th scope=col>truth</th></tr>\n",
       "\t<tr><th scope=col>&lt;dbl&gt;</th><th scope=col>&lt;dbl&gt;</th></tr>\n",
       "</thead>\n",
       "<tbody>\n",
       "\t<tr><td>0.006387429</td><td>0.00</td></tr>\n",
       "\t<tr><td>0.006398255</td><td>0.00</td></tr>\n",
       "\t<tr><td>0.006326534</td><td>0.00</td></tr>\n",
       "\t<tr><td>0.006373897</td><td>0.00</td></tr>\n",
       "\t<tr><td>0.006364424</td><td>0.02</td></tr>\n",
       "\t<tr><td>0.006336007</td><td>0.00</td></tr>\n",
       "</tbody>\n",
       "</table>\n"
      ],
      "text/latex": [
       "A tibble: 6 × 2\n",
       "\\begin{tabular}{ll}\n",
       " .pred & truth\\\\\n",
       " <dbl> & <dbl>\\\\\n",
       "\\hline\n",
       "\t 0.006387429 & 0.00\\\\\n",
       "\t 0.006398255 & 0.00\\\\\n",
       "\t 0.006326534 & 0.00\\\\\n",
       "\t 0.006373897 & 0.00\\\\\n",
       "\t 0.006364424 & 0.02\\\\\n",
       "\t 0.006336007 & 0.00\\\\\n",
       "\\end{tabular}\n"
      ],
      "text/markdown": [
       "\n",
       "A tibble: 6 × 2\n",
       "\n",
       "| .pred &lt;dbl&gt; | truth &lt;dbl&gt; |\n",
       "|---|---|\n",
       "| 0.006387429 | 0.00 |\n",
       "| 0.006398255 | 0.00 |\n",
       "| 0.006326534 | 0.00 |\n",
       "| 0.006373897 | 0.00 |\n",
       "| 0.006364424 | 0.02 |\n",
       "| 0.006336007 | 0.00 |\n",
       "\n"
      ],
      "text/plain": [
       "  .pred       truth\n",
       "1 0.006387429 0.00 \n",
       "2 0.006398255 0.00 \n",
       "3 0.006326534 0.00 \n",
       "4 0.006373897 0.00 \n",
       "5 0.006364424 0.02 \n",
       "6 0.006336007 0.00 "
      ]
     },
     "metadata": {},
     "output_type": "display_data"
    },
    {
     "data": {
      "text/html": [
       "<table>\n",
       "<caption>A tibble: 1 × 3</caption>\n",
       "<thead>\n",
       "\t<tr><th scope=col>.metric</th><th scope=col>.estimator</th><th scope=col>.estimate</th></tr>\n",
       "\t<tr><th scope=col>&lt;chr&gt;</th><th scope=col>&lt;chr&gt;</th><th scope=col>&lt;dbl&gt;</th></tr>\n",
       "</thead>\n",
       "<tbody>\n",
       "\t<tr><td>rmse</td><td>standard</td><td>0.03696167</td></tr>\n",
       "</tbody>\n",
       "</table>\n"
      ],
      "text/latex": [
       "A tibble: 1 × 3\n",
       "\\begin{tabular}{lll}\n",
       " .metric & .estimator & .estimate\\\\\n",
       " <chr> & <chr> & <dbl>\\\\\n",
       "\\hline\n",
       "\t rmse & standard & 0.03696167\\\\\n",
       "\\end{tabular}\n"
      ],
      "text/markdown": [
       "\n",
       "A tibble: 1 × 3\n",
       "\n",
       "| .metric &lt;chr&gt; | .estimator &lt;chr&gt; | .estimate &lt;dbl&gt; |\n",
       "|---|---|---|\n",
       "| rmse | standard | 0.03696167 |\n",
       "\n"
      ],
      "text/plain": [
       "  .metric .estimator .estimate \n",
       "1 rmse    standard   0.03696167"
      ]
     },
     "metadata": {},
     "output_type": "display_data"
    },
    {
     "data": {
      "text/html": [
       "<table>\n",
       "<caption>A tibble: 1 × 3</caption>\n",
       "<thead>\n",
       "\t<tr><th scope=col>.metric</th><th scope=col>.estimator</th><th scope=col>.estimate</th></tr>\n",
       "\t<tr><th scope=col>&lt;chr&gt;</th><th scope=col>&lt;chr&gt;</th><th scope=col>&lt;dbl&gt;</th></tr>\n",
       "</thead>\n",
       "<tbody>\n",
       "\t<tr><td>rsq</td><td>standard</td><td>3.966244e-07</td></tr>\n",
       "</tbody>\n",
       "</table>\n"
      ],
      "text/latex": [
       "A tibble: 1 × 3\n",
       "\\begin{tabular}{lll}\n",
       " .metric & .estimator & .estimate\\\\\n",
       " <chr> & <chr> & <dbl>\\\\\n",
       "\\hline\n",
       "\t rsq & standard & 3.966244e-07\\\\\n",
       "\\end{tabular}\n"
      ],
      "text/markdown": [
       "\n",
       "A tibble: 1 × 3\n",
       "\n",
       "| .metric &lt;chr&gt; | .estimator &lt;chr&gt; | .estimate &lt;dbl&gt; |\n",
       "|---|---|---|\n",
       "| rsq | standard | 3.966244e-07 |\n",
       "\n"
      ],
      "text/plain": [
       "  .metric .estimator .estimate   \n",
       "1 rsq     standard   3.966244e-07"
      ]
     },
     "metadata": {},
     "output_type": "display_data"
    },
    {
     "data": {},
     "metadata": {},
     "output_type": "display_data"
    },
    {
     "data": {
      "image/png": "[encoded data removed]",
      "text/plain": [
       "plot without title"
      ]
     },
     "metadata": {},
     "output_type": "display_data",
     "source": "R display func"
    }
   ],
   "source": [
    "simple_lm_bulbF <- fit(lm_spec, precip ~ dry_bulb_temp_f, data = train_data)\n",
    "lm_bulbF_results <- predict(simple_lm_bulbF, new_data = train_data) %>%\n",
    "            mutate(truth = train_data$precip)\n",
    "\n",
    "head(lm_bulbF_results)\n",
    "rmse(lm_bulbF_results, truth = truth, estimate = .pred)\n",
    "rsq(lm_bulbF_results, truth = truth, estimate = .pred)\n",
    "\n",
    "ggplot(train_data, aes(x = dry_bulb_temp_f, y = precip)) + \n",
    "geom_point() +\n",
    "stat_smooth(method = \"lm\", col = \"red\", formula = y~x)"
   ]
  },
  {
   "cell_type": "code",
   "execution_count": 20,
   "metadata": {},
   "outputs": [
    {
     "data": {
      "text/html": [
       "<table>\n",
       "<caption>A tibble: 6 × 2</caption>\n",
       "<thead>\n",
       "\t<tr><th scope=col>.pred</th><th scope=col>truth</th></tr>\n",
       "\t<tr><th scope=col>&lt;dbl&gt;</th><th scope=col>&lt;dbl&gt;</th></tr>\n",
       "</thead>\n",
       "<tbody>\n",
       "\t<tr><td>0.004257758</td><td>0.00</td></tr>\n",
       "\t<tr><td>0.007221445</td><td>0.00</td></tr>\n",
       "\t<tr><td>0.006233549</td><td>0.00</td></tr>\n",
       "\t<tr><td>0.005739602</td><td>0.00</td></tr>\n",
       "\t<tr><td>0.009691184</td><td>0.02</td></tr>\n",
       "\t<tr><td>0.007221445</td><td>0.00</td></tr>\n",
       "</tbody>\n",
       "</table>\n"
      ],
      "text/latex": [
       "A tibble: 6 × 2\n",
       "\\begin{tabular}{ll}\n",
       " .pred & truth\\\\\n",
       " <dbl> & <dbl>\\\\\n",
       "\\hline\n",
       "\t 0.004257758 & 0.00\\\\\n",
       "\t 0.007221445 & 0.00\\\\\n",
       "\t 0.006233549 & 0.00\\\\\n",
       "\t 0.005739602 & 0.00\\\\\n",
       "\t 0.009691184 & 0.02\\\\\n",
       "\t 0.007221445 & 0.00\\\\\n",
       "\\end{tabular}\n"
      ],
      "text/markdown": [
       "\n",
       "A tibble: 6 × 2\n",
       "\n",
       "| .pred &lt;dbl&gt; | truth &lt;dbl&gt; |\n",
       "|---|---|\n",
       "| 0.004257758 | 0.00 |\n",
       "| 0.007221445 | 0.00 |\n",
       "| 0.006233549 | 0.00 |\n",
       "| 0.005739602 | 0.00 |\n",
       "| 0.009691184 | 0.02 |\n",
       "| 0.007221445 | 0.00 |\n",
       "\n"
      ],
      "text/plain": [
       "  .pred       truth\n",
       "1 0.004257758 0.00 \n",
       "2 0.007221445 0.00 \n",
       "3 0.006233549 0.00 \n",
       "4 0.005739602 0.00 \n",
       "5 0.009691184 0.02 \n",
       "6 0.007221445 0.00 "
      ]
     },
     "metadata": {},
     "output_type": "display_data"
    },
    {
     "data": {
      "text/html": [
       "<table>\n",
       "<caption>A tibble: 1 × 3</caption>\n",
       "<thead>\n",
       "\t<tr><th scope=col>.metric</th><th scope=col>.estimator</th><th scope=col>.estimate</th></tr>\n",
       "\t<tr><th scope=col>&lt;chr&gt;</th><th scope=col>&lt;chr&gt;</th><th scope=col>&lt;dbl&gt;</th></tr>\n",
       "</thead>\n",
       "<tbody>\n",
       "\t<tr><td>rmse</td><td>standard</td><td>0.03683292</td></tr>\n",
       "</tbody>\n",
       "</table>\n"
      ],
      "text/latex": [
       "A tibble: 1 × 3\n",
       "\\begin{tabular}{lll}\n",
       " .metric & .estimator & .estimate\\\\\n",
       " <chr> & <chr> & <dbl>\\\\\n",
       "\\hline\n",
       "\t rmse & standard & 0.03683292\\\\\n",
       "\\end{tabular}\n"
      ],
      "text/markdown": [
       "\n",
       "A tibble: 1 × 3\n",
       "\n",
       "| .metric &lt;chr&gt; | .estimator &lt;chr&gt; | .estimate &lt;dbl&gt; |\n",
       "|---|---|---|\n",
       "| rmse | standard | 0.03683292 |\n",
       "\n"
      ],
      "text/plain": [
       "  .metric .estimator .estimate \n",
       "1 rmse    standard   0.03683292"
      ]
     },
     "metadata": {},
     "output_type": "display_data"
    },
    {
     "data": {
      "text/html": [
       "<table>\n",
       "<caption>A tibble: 1 × 3</caption>\n",
       "<thead>\n",
       "\t<tr><th scope=col>.metric</th><th scope=col>.estimator</th><th scope=col>.estimate</th></tr>\n",
       "\t<tr><th scope=col>&lt;chr&gt;</th><th scope=col>&lt;chr&gt;</th><th scope=col>&lt;dbl&gt;</th></tr>\n",
       "</thead>\n",
       "<tbody>\n",
       "\t<tr><td>rsq</td><td>standard</td><td>0.006955089</td></tr>\n",
       "</tbody>\n",
       "</table>\n"
      ],
      "text/latex": [
       "A tibble: 1 × 3\n",
       "\\begin{tabular}{lll}\n",
       " .metric & .estimator & .estimate\\\\\n",
       " <chr> & <chr> & <dbl>\\\\\n",
       "\\hline\n",
       "\t rsq & standard & 0.006955089\\\\\n",
       "\\end{tabular}\n"
      ],
      "text/markdown": [
       "\n",
       "A tibble: 1 × 3\n",
       "\n",
       "| .metric &lt;chr&gt; | .estimator &lt;chr&gt; | .estimate &lt;dbl&gt; |\n",
       "|---|---|---|\n",
       "| rsq | standard | 0.006955089 |\n",
       "\n"
      ],
      "text/plain": [
       "  .metric .estimator .estimate  \n",
       "1 rsq     standard   0.006955089"
      ]
     },
     "metadata": {},
     "output_type": "display_data"
    },
    {
     "data": {},
     "metadata": {},
     "output_type": "display_data"
    },
    {
     "data": {
      "image/png": "[encoded data removed]",
      "text/plain": [
       "plot without title"
      ]
     },
     "metadata": {},
     "output_type": "display_data",
     "source": "R display func"
    }
   ],
   "source": [
    "simple_lm_wind <- fit(lm_spec, precip ~ wind_speed, data = train_data)\n",
    "lm_wind_results <- predict(simple_lm_wind, new_data = train_data) %>%\n",
    "                    mutate(truth = train_data$precip)\n",
    "\n",
    "head(lm_wind_results)\n",
    "rmse(lm_wind_results, truth = truth, estimate = .pred)\n",
    "rsq(lm_wind_results, truth = truth, estimate = .pred)\n",
    "\n",
    "ggplot(train_data, aes(x = wind_speed, y = precip)) + \n",
    "geom_point() +\n",
    "stat_smooth(method = \"lm\", col = \"red\", formula = y~x)"
   ]
  },
  {
   "cell_type": "code",
   "execution_count": 21,
   "metadata": {},
   "outputs": [
    {
     "data": {
      "text/html": [
       "<table>\n",
       "<caption>A tibble: 6 × 2</caption>\n",
       "<thead>\n",
       "\t<tr><th scope=col>.pred</th><th scope=col>truth</th></tr>\n",
       "\t<tr><th scope=col>&lt;dbl&gt;</th><th scope=col>&lt;dbl&gt;</th></tr>\n",
       "</thead>\n",
       "<tbody>\n",
       "\t<tr><td>0.004920434</td><td>0.00</td></tr>\n",
       "\t<tr><td>0.004696009</td><td>0.00</td></tr>\n",
       "\t<tr><td>0.002227333</td><td>0.00</td></tr>\n",
       "\t<tr><td>0.004471584</td><td>0.00</td></tr>\n",
       "\t<tr><td>0.008960086</td><td>0.02</td></tr>\n",
       "\t<tr><td>0.006266984</td><td>0.00</td></tr>\n",
       "</tbody>\n",
       "</table>\n"
      ],
      "text/latex": [
       "A tibble: 6 × 2\n",
       "\\begin{tabular}{ll}\n",
       " .pred & truth\\\\\n",
       " <dbl> & <dbl>\\\\\n",
       "\\hline\n",
       "\t 0.004920434 & 0.00\\\\\n",
       "\t 0.004696009 & 0.00\\\\\n",
       "\t 0.002227333 & 0.00\\\\\n",
       "\t 0.004471584 & 0.00\\\\\n",
       "\t 0.008960086 & 0.02\\\\\n",
       "\t 0.006266984 & 0.00\\\\\n",
       "\\end{tabular}\n"
      ],
      "text/markdown": [
       "\n",
       "A tibble: 6 × 2\n",
       "\n",
       "| .pred &lt;dbl&gt; | truth &lt;dbl&gt; |\n",
       "|---|---|\n",
       "| 0.004920434 | 0.00 |\n",
       "| 0.004696009 | 0.00 |\n",
       "| 0.002227333 | 0.00 |\n",
       "| 0.004471584 | 0.00 |\n",
       "| 0.008960086 | 0.02 |\n",
       "| 0.006266984 | 0.00 |\n",
       "\n"
      ],
      "text/plain": [
       "  .pred       truth\n",
       "1 0.004920434 0.00 \n",
       "2 0.004696009 0.00 \n",
       "3 0.002227333 0.00 \n",
       "4 0.004471584 0.00 \n",
       "5 0.008960086 0.02 \n",
       "6 0.006266984 0.00 "
      ]
     },
     "metadata": {},
     "output_type": "display_data"
    },
    {
     "data": {
      "text/html": [
       "<table>\n",
       "<caption>A tibble: 1 × 3</caption>\n",
       "<thead>\n",
       "\t<tr><th scope=col>.metric</th><th scope=col>.estimator</th><th scope=col>.estimate</th></tr>\n",
       "\t<tr><th scope=col>&lt;chr&gt;</th><th scope=col>&lt;chr&gt;</th><th scope=col>&lt;dbl&gt;</th></tr>\n",
       "</thead>\n",
       "<tbody>\n",
       "\t<tr><td>rmse</td><td>standard</td><td>0.03656479</td></tr>\n",
       "</tbody>\n",
       "</table>\n"
      ],
      "text/latex": [
       "A tibble: 1 × 3\n",
       "\\begin{tabular}{lll}\n",
       " .metric & .estimator & .estimate\\\\\n",
       " <chr> & <chr> & <dbl>\\\\\n",
       "\\hline\n",
       "\t rmse & standard & 0.03656479\\\\\n",
       "\\end{tabular}\n"
      ],
      "text/markdown": [
       "\n",
       "A tibble: 1 × 3\n",
       "\n",
       "| .metric &lt;chr&gt; | .estimator &lt;chr&gt; | .estimate &lt;dbl&gt; |\n",
       "|---|---|---|\n",
       "| rmse | standard | 0.03656479 |\n",
       "\n"
      ],
      "text/plain": [
       "  .metric .estimator .estimate \n",
       "1 rmse    standard   0.03656479"
      ]
     },
     "metadata": {},
     "output_type": "display_data"
    },
    {
     "data": {
      "text/html": [
       "<table>\n",
       "<caption>A tibble: 1 × 3</caption>\n",
       "<thead>\n",
       "\t<tr><th scope=col>.metric</th><th scope=col>.estimator</th><th scope=col>.estimate</th></tr>\n",
       "\t<tr><th scope=col>&lt;chr&gt;</th><th scope=col>&lt;chr&gt;</th><th scope=col>&lt;dbl&gt;</th></tr>\n",
       "</thead>\n",
       "<tbody>\n",
       "\t<tr><td>rsq</td><td>standard</td><td>0.02136029</td></tr>\n",
       "</tbody>\n",
       "</table>\n"
      ],
      "text/latex": [
       "A tibble: 1 × 3\n",
       "\\begin{tabular}{lll}\n",
       " .metric & .estimator & .estimate\\\\\n",
       " <chr> & <chr> & <dbl>\\\\\n",
       "\\hline\n",
       "\t rsq & standard & 0.02136029\\\\\n",
       "\\end{tabular}\n"
      ],
      "text/markdown": [
       "\n",
       "A tibble: 1 × 3\n",
       "\n",
       "| .metric &lt;chr&gt; | .estimator &lt;chr&gt; | .estimate &lt;dbl&gt; |\n",
       "|---|---|---|\n",
       "| rsq | standard | 0.02136029 |\n",
       "\n"
      ],
      "text/plain": [
       "  .metric .estimator .estimate \n",
       "1 rsq     standard   0.02136029"
      ]
     },
     "metadata": {},
     "output_type": "display_data"
    },
    {
     "data": {},
     "metadata": {},
     "output_type": "display_data"
    },
    {
     "data": {
      "image/png": "[encoded data removed]",
      "text/plain": [
       "plot without title"
      ]
     },
     "metadata": {},
     "output_type": "display_data",
     "source": "R display func"
    }
   ],
   "source": [
    "simple_lm_station_pressure <- fit(lm_spec, precip ~ station_pressure, data = train_data)\n",
    "lm_p_results <- predict(simple_lm_station_pressure, new_data = train_data) %>%\n",
    "                                        mutate(truth = train_data$precip)\n",
    "head(lm_p_results)\n",
    "rmse(lm_p_results, truth = truth, estimate = .pred)\n",
    "rsq(lm_p_results, truth = truth, estimate = .pred)\n",
    "\n",
    "ggplot(train_data, aes(x = station_pressure, y = precip)) + \n",
    "geom_point() +\n",
    "geom_smooth(method = \"lm\", col = \"red\", formula = y~x)"
   ]
  },
  {
   "cell_type": "markdown",
   "metadata": {},
   "source": [
    "<a id=\"cell9\"></a>\n",
    "\n",
    "## 9. Improve the Model\n",
    "\n",
    "Now, try improving the simple models you created in the previous section.\n",
    "\n",
    "Create at least two more models, each model should use at least one of the different techniques:\n",
    "\n",
    "1.  Add more features/predictors\n",
    "2.  Add regularization (L1, L2 or a mix)\n",
    "3.  Add a polynomial component\n",
    "\n",
    "Also, for each of the models you create, check the model performance using the **training set** and a metric like MSE, RMSE, or R-squared.\n",
    "\n",
    "Consider using `tidymodels` if you choose to add regularization and tune lambda.\n"
   ]
  },
  {
   "cell_type": "code",
   "execution_count": 22,
   "metadata": {},
   "outputs": [
    {
     "name": "stdout",
     "output_type": "stream",
     "text": [
      "[1] \"Model 1 errors on training data:\"\n"
     ]
    },
    {
     "data": {
      "text/html": [
       "<table>\n",
       "<caption>A tibble: 1 × 3</caption>\n",
       "<thead>\n",
       "\t<tr><th scope=col>.metric</th><th scope=col>.estimator</th><th scope=col>.estimate</th></tr>\n",
       "\t<tr><th scope=col>&lt;chr&gt;</th><th scope=col>&lt;chr&gt;</th><th scope=col>&lt;dbl&gt;</th></tr>\n",
       "</thead>\n",
       "<tbody>\n",
       "\t<tr><td>rmse</td><td>standard</td><td>0.0360885</td></tr>\n",
       "</tbody>\n",
       "</table>\n"
      ],
      "text/latex": [
       "A tibble: 1 × 3\n",
       "\\begin{tabular}{lll}\n",
       " .metric & .estimator & .estimate\\\\\n",
       " <chr> & <chr> & <dbl>\\\\\n",
       "\\hline\n",
       "\t rmse & standard & 0.0360885\\\\\n",
       "\\end{tabular}\n"
      ],
      "text/markdown": [
       "\n",
       "A tibble: 1 × 3\n",
       "\n",
       "| .metric &lt;chr&gt; | .estimator &lt;chr&gt; | .estimate &lt;dbl&gt; |\n",
       "|---|---|---|\n",
       "| rmse | standard | 0.0360885 |\n",
       "\n"
      ],
      "text/plain": [
       "  .metric .estimator .estimate\n",
       "1 rmse    standard   0.0360885"
      ]
     },
     "metadata": {},
     "output_type": "display_data"
    },
    {
     "data": {
      "text/html": [
       "<table>\n",
       "<caption>A tibble: 1 × 3</caption>\n",
       "<thead>\n",
       "\t<tr><th scope=col>.metric</th><th scope=col>.estimator</th><th scope=col>.estimate</th></tr>\n",
       "\t<tr><th scope=col>&lt;chr&gt;</th><th scope=col>&lt;chr&gt;</th><th scope=col>&lt;dbl&gt;</th></tr>\n",
       "</thead>\n",
       "<tbody>\n",
       "\t<tr><td>rsq</td><td>standard</td><td>0.04668956</td></tr>\n",
       "</tbody>\n",
       "</table>\n"
      ],
      "text/latex": [
       "A tibble: 1 × 3\n",
       "\\begin{tabular}{lll}\n",
       " .metric & .estimator & .estimate\\\\\n",
       " <chr> & <chr> & <dbl>\\\\\n",
       "\\hline\n",
       "\t rsq & standard & 0.04668956\\\\\n",
       "\\end{tabular}\n"
      ],
      "text/markdown": [
       "\n",
       "A tibble: 1 × 3\n",
       "\n",
       "| .metric &lt;chr&gt; | .estimator &lt;chr&gt; | .estimate &lt;dbl&gt; |\n",
       "|---|---|---|\n",
       "| rsq | standard | 0.04668956 |\n",
       "\n"
      ],
      "text/plain": [
       "  .metric .estimator .estimate \n",
       "1 rsq     standard   0.04668956"
      ]
     },
     "metadata": {},
     "output_type": "display_data"
    },
    {
     "name": "stdout",
     "output_type": "stream",
     "text": [
      "[1] \"Model 1 errors on test data:\"\n"
     ]
    },
    {
     "data": {
      "text/html": [
       "<table>\n",
       "<caption>A tibble: 1 × 3</caption>\n",
       "<thead>\n",
       "\t<tr><th scope=col>.metric</th><th scope=col>.estimator</th><th scope=col>.estimate</th></tr>\n",
       "\t<tr><th scope=col>&lt;chr&gt;</th><th scope=col>&lt;chr&gt;</th><th scope=col>&lt;dbl&gt;</th></tr>\n",
       "</thead>\n",
       "<tbody>\n",
       "\t<tr><td>rmse</td><td>standard</td><td>0.05614758</td></tr>\n",
       "</tbody>\n",
       "</table>\n"
      ],
      "text/latex": [
       "A tibble: 1 × 3\n",
       "\\begin{tabular}{lll}\n",
       " .metric & .estimator & .estimate\\\\\n",
       " <chr> & <chr> & <dbl>\\\\\n",
       "\\hline\n",
       "\t rmse & standard & 0.05614758\\\\\n",
       "\\end{tabular}\n"
      ],
      "text/markdown": [
       "\n",
       "A tibble: 1 × 3\n",
       "\n",
       "| .metric &lt;chr&gt; | .estimator &lt;chr&gt; | .estimate &lt;dbl&gt; |\n",
       "|---|---|---|\n",
       "| rmse | standard | 0.05614758 |\n",
       "\n"
      ],
      "text/plain": [
       "  .metric .estimator .estimate \n",
       "1 rmse    standard   0.05614758"
      ]
     },
     "metadata": {},
     "output_type": "display_data"
    },
    {
     "data": {
      "text/html": [
       "<table>\n",
       "<caption>A tibble: 1 × 3</caption>\n",
       "<thead>\n",
       "\t<tr><th scope=col>.metric</th><th scope=col>.estimator</th><th scope=col>.estimate</th></tr>\n",
       "\t<tr><th scope=col>&lt;chr&gt;</th><th scope=col>&lt;chr&gt;</th><th scope=col>&lt;dbl&gt;</th></tr>\n",
       "</thead>\n",
       "<tbody>\n",
       "\t<tr><td>rsq</td><td>standard</td><td>0.02361038</td></tr>\n",
       "</tbody>\n",
       "</table>\n"
      ],
      "text/latex": [
       "A tibble: 1 × 3\n",
       "\\begin{tabular}{lll}\n",
       " .metric & .estimator & .estimate\\\\\n",
       " <chr> & <chr> & <dbl>\\\\\n",
       "\\hline\n",
       "\t rsq & standard & 0.02361038\\\\\n",
       "\\end{tabular}\n"
      ],
      "text/markdown": [
       "\n",
       "A tibble: 1 × 3\n",
       "\n",
       "| .metric &lt;chr&gt; | .estimator &lt;chr&gt; | .estimate &lt;dbl&gt; |\n",
       "|---|---|---|\n",
       "| rsq | standard | 0.02361038 |\n",
       "\n"
      ],
      "text/plain": [
       "  .metric .estimator .estimate \n",
       "1 rsq     standard   0.02361038"
      ]
     },
     "metadata": {},
     "output_type": "display_data"
    },
    {
     "name": "stdout",
     "output_type": "stream",
     "text": [
      "[1] \"==========================================================================================\"\n",
      "[1] \"Model 2 errors on training data:\"\n"
     ]
    },
    {
     "data": {
      "text/html": [
       "<table>\n",
       "<caption>A tibble: 1 × 3</caption>\n",
       "<thead>\n",
       "\t<tr><th scope=col>.metric</th><th scope=col>.estimator</th><th scope=col>.estimate</th></tr>\n",
       "\t<tr><th scope=col>&lt;chr&gt;</th><th scope=col>&lt;chr&gt;</th><th scope=col>&lt;dbl&gt;</th></tr>\n",
       "</thead>\n",
       "<tbody>\n",
       "\t<tr><td>rmse</td><td>standard</td><td>0.03569646</td></tr>\n",
       "</tbody>\n",
       "</table>\n"
      ],
      "text/latex": [
       "A tibble: 1 × 3\n",
       "\\begin{tabular}{lll}\n",
       " .metric & .estimator & .estimate\\\\\n",
       " <chr> & <chr> & <dbl>\\\\\n",
       "\\hline\n",
       "\t rmse & standard & 0.03569646\\\\\n",
       "\\end{tabular}\n"
      ],
      "text/markdown": [
       "\n",
       "A tibble: 1 × 3\n",
       "\n",
       "| .metric &lt;chr&gt; | .estimator &lt;chr&gt; | .estimate &lt;dbl&gt; |\n",
       "|---|---|---|\n",
       "| rmse | standard | 0.03569646 |\n",
       "\n"
      ],
      "text/plain": [
       "  .metric .estimator .estimate \n",
       "1 rmse    standard   0.03569646"
      ]
     },
     "metadata": {},
     "output_type": "display_data"
    },
    {
     "data": {
      "text/html": [
       "<table>\n",
       "<caption>A tibble: 1 × 3</caption>\n",
       "<thead>\n",
       "\t<tr><th scope=col>.metric</th><th scope=col>.estimator</th><th scope=col>.estimate</th></tr>\n",
       "\t<tr><th scope=col>&lt;chr&gt;</th><th scope=col>&lt;chr&gt;</th><th scope=col>&lt;dbl&gt;</th></tr>\n",
       "</thead>\n",
       "<tbody>\n",
       "\t<tr><td>rsq</td><td>standard</td><td>0.06728923</td></tr>\n",
       "</tbody>\n",
       "</table>\n"
      ],
      "text/latex": [
       "A tibble: 1 × 3\n",
       "\\begin{tabular}{lll}\n",
       " .metric & .estimator & .estimate\\\\\n",
       " <chr> & <chr> & <dbl>\\\\\n",
       "\\hline\n",
       "\t rsq & standard & 0.06728923\\\\\n",
       "\\end{tabular}\n"
      ],
      "text/markdown": [
       "\n",
       "A tibble: 1 × 3\n",
       "\n",
       "| .metric &lt;chr&gt; | .estimator &lt;chr&gt; | .estimate &lt;dbl&gt; |\n",
       "|---|---|---|\n",
       "| rsq | standard | 0.06728923 |\n",
       "\n"
      ],
      "text/plain": [
       "  .metric .estimator .estimate \n",
       "1 rsq     standard   0.06728923"
      ]
     },
     "metadata": {},
     "output_type": "display_data"
    },
    {
     "name": "stdout",
     "output_type": "stream",
     "text": [
      "[1] \"Model 2 errors on test data:\"\n"
     ]
    },
    {
     "data": {
      "text/html": [
       "<table>\n",
       "<caption>A tibble: 1 × 3</caption>\n",
       "<thead>\n",
       "\t<tr><th scope=col>.metric</th><th scope=col>.estimator</th><th scope=col>.estimate</th></tr>\n",
       "\t<tr><th scope=col>&lt;chr&gt;</th><th scope=col>&lt;chr&gt;</th><th scope=col>&lt;dbl&gt;</th></tr>\n",
       "</thead>\n",
       "<tbody>\n",
       "\t<tr><td>rmse</td><td>standard</td><td>0.05614758</td></tr>\n",
       "</tbody>\n",
       "</table>\n"
      ],
      "text/latex": [
       "A tibble: 1 × 3\n",
       "\\begin{tabular}{lll}\n",
       " .metric & .estimator & .estimate\\\\\n",
       " <chr> & <chr> & <dbl>\\\\\n",
       "\\hline\n",
       "\t rmse & standard & 0.05614758\\\\\n",
       "\\end{tabular}\n"
      ],
      "text/markdown": [
       "\n",
       "A tibble: 1 × 3\n",
       "\n",
       "| .metric &lt;chr&gt; | .estimator &lt;chr&gt; | .estimate &lt;dbl&gt; |\n",
       "|---|---|---|\n",
       "| rmse | standard | 0.05614758 |\n",
       "\n"
      ],
      "text/plain": [
       "  .metric .estimator .estimate \n",
       "1 rmse    standard   0.05614758"
      ]
     },
     "metadata": {},
     "output_type": "display_data"
    },
    {
     "data": {
      "text/html": [
       "<table>\n",
       "<caption>A tibble: 1 × 3</caption>\n",
       "<thead>\n",
       "\t<tr><th scope=col>.metric</th><th scope=col>.estimator</th><th scope=col>.estimate</th></tr>\n",
       "\t<tr><th scope=col>&lt;chr&gt;</th><th scope=col>&lt;chr&gt;</th><th scope=col>&lt;dbl&gt;</th></tr>\n",
       "</thead>\n",
       "<tbody>\n",
       "\t<tr><td>rsq</td><td>standard</td><td>0.02361038</td></tr>\n",
       "</tbody>\n",
       "</table>\n"
      ],
      "text/latex": [
       "A tibble: 1 × 3\n",
       "\\begin{tabular}{lll}\n",
       " .metric & .estimator & .estimate\\\\\n",
       " <chr> & <chr> & <dbl>\\\\\n",
       "\\hline\n",
       "\t rsq & standard & 0.02361038\\\\\n",
       "\\end{tabular}\n"
      ],
      "text/markdown": [
       "\n",
       "A tibble: 1 × 3\n",
       "\n",
       "| .metric &lt;chr&gt; | .estimator &lt;chr&gt; | .estimate &lt;dbl&gt; |\n",
       "|---|---|---|\n",
       "| rsq | standard | 0.02361038 |\n",
       "\n"
      ],
      "text/plain": [
       "  .metric .estimator .estimate \n",
       "1 rsq     standard   0.02361038"
      ]
     },
     "metadata": {},
     "output_type": "display_data"
    },
    {
     "name": "stdout",
     "output_type": "stream",
     "text": [
      "[1] \"==========================================================================================\"\n",
      "[1] \"Model 3 errors on training data:\"\n"
     ]
    },
    {
     "data": {
      "text/html": [
       "<table>\n",
       "<caption>A tibble: 1 × 3</caption>\n",
       "<thead>\n",
       "\t<tr><th scope=col>.metric</th><th scope=col>.estimator</th><th scope=col>.estimate</th></tr>\n",
       "\t<tr><th scope=col>&lt;chr&gt;</th><th scope=col>&lt;chr&gt;</th><th scope=col>&lt;dbl&gt;</th></tr>\n",
       "</thead>\n",
       "<tbody>\n",
       "\t<tr><td>rmse</td><td>standard</td><td>0.0359399</td></tr>\n",
       "</tbody>\n",
       "</table>\n"
      ],
      "text/latex": [
       "A tibble: 1 × 3\n",
       "\\begin{tabular}{lll}\n",
       " .metric & .estimator & .estimate\\\\\n",
       " <chr> & <chr> & <dbl>\\\\\n",
       "\\hline\n",
       "\t rmse & standard & 0.0359399\\\\\n",
       "\\end{tabular}\n"
      ],
      "text/markdown": [
       "\n",
       "A tibble: 1 × 3\n",
       "\n",
       "| .metric &lt;chr&gt; | .estimator &lt;chr&gt; | .estimate &lt;dbl&gt; |\n",
       "|---|---|---|\n",
       "| rmse | standard | 0.0359399 |\n",
       "\n"
      ],
      "text/plain": [
       "  .metric .estimator .estimate\n",
       "1 rmse    standard   0.0359399"
      ]
     },
     "metadata": {},
     "output_type": "display_data"
    },
    {
     "data": {
      "text/html": [
       "<table>\n",
       "<caption>A tibble: 1 × 3</caption>\n",
       "<thead>\n",
       "\t<tr><th scope=col>.metric</th><th scope=col>.estimator</th><th scope=col>.estimate</th></tr>\n",
       "\t<tr><th scope=col>&lt;chr&gt;</th><th scope=col>&lt;chr&gt;</th><th scope=col>&lt;dbl&gt;</th></tr>\n",
       "</thead>\n",
       "<tbody>\n",
       "\t<tr><td>rsq</td><td>standard</td><td>0.05452458</td></tr>\n",
       "</tbody>\n",
       "</table>\n"
      ],
      "text/latex": [
       "A tibble: 1 × 3\n",
       "\\begin{tabular}{lll}\n",
       " .metric & .estimator & .estimate\\\\\n",
       " <chr> & <chr> & <dbl>\\\\\n",
       "\\hline\n",
       "\t rsq & standard & 0.05452458\\\\\n",
       "\\end{tabular}\n"
      ],
      "text/markdown": [
       "\n",
       "A tibble: 1 × 3\n",
       "\n",
       "| .metric &lt;chr&gt; | .estimator &lt;chr&gt; | .estimate &lt;dbl&gt; |\n",
       "|---|---|---|\n",
       "| rsq | standard | 0.05452458 |\n",
       "\n"
      ],
      "text/plain": [
       "  .metric .estimator .estimate \n",
       "1 rsq     standard   0.05452458"
      ]
     },
     "metadata": {},
     "output_type": "display_data"
    },
    {
     "name": "stdout",
     "output_type": "stream",
     "text": [
      "[1] \"Model 3 errors on test data:\"\n"
     ]
    },
    {
     "data": {
      "text/html": [
       "<table>\n",
       "<caption>A tibble: 1 × 3</caption>\n",
       "<thead>\n",
       "\t<tr><th scope=col>.metric</th><th scope=col>.estimator</th><th scope=col>.estimate</th></tr>\n",
       "\t<tr><th scope=col>&lt;chr&gt;</th><th scope=col>&lt;chr&gt;</th><th scope=col>&lt;dbl&gt;</th></tr>\n",
       "</thead>\n",
       "<tbody>\n",
       "\t<tr><td>rmse</td><td>standard</td><td>0.05614758</td></tr>\n",
       "</tbody>\n",
       "</table>\n"
      ],
      "text/latex": [
       "A tibble: 1 × 3\n",
       "\\begin{tabular}{lll}\n",
       " .metric & .estimator & .estimate\\\\\n",
       " <chr> & <chr> & <dbl>\\\\\n",
       "\\hline\n",
       "\t rmse & standard & 0.05614758\\\\\n",
       "\\end{tabular}\n"
      ],
      "text/markdown": [
       "\n",
       "A tibble: 1 × 3\n",
       "\n",
       "| .metric &lt;chr&gt; | .estimator &lt;chr&gt; | .estimate &lt;dbl&gt; |\n",
       "|---|---|---|\n",
       "| rmse | standard | 0.05614758 |\n",
       "\n"
      ],
      "text/plain": [
       "  .metric .estimator .estimate \n",
       "1 rmse    standard   0.05614758"
      ]
     },
     "metadata": {},
     "output_type": "display_data"
    },
    {
     "data": {
      "text/html": [
       "<table>\n",
       "<caption>A tibble: 1 × 3</caption>\n",
       "<thead>\n",
       "\t<tr><th scope=col>.metric</th><th scope=col>.estimator</th><th scope=col>.estimate</th></tr>\n",
       "\t<tr><th scope=col>&lt;chr&gt;</th><th scope=col>&lt;chr&gt;</th><th scope=col>&lt;dbl&gt;</th></tr>\n",
       "</thead>\n",
       "<tbody>\n",
       "\t<tr><td>rsq</td><td>standard</td><td>0.02361038</td></tr>\n",
       "</tbody>\n",
       "</table>\n"
      ],
      "text/latex": [
       "A tibble: 1 × 3\n",
       "\\begin{tabular}{lll}\n",
       " .metric & .estimator & .estimate\\\\\n",
       " <chr> & <chr> & <dbl>\\\\\n",
       "\\hline\n",
       "\t rsq & standard & 0.02361038\\\\\n",
       "\\end{tabular}\n"
      ],
      "text/markdown": [
       "\n",
       "A tibble: 1 × 3\n",
       "\n",
       "| .metric &lt;chr&gt; | .estimator &lt;chr&gt; | .estimate &lt;dbl&gt; |\n",
       "|---|---|---|\n",
       "| rsq | standard | 0.02361038 |\n",
       "\n"
      ],
      "text/plain": [
       "  .metric .estimator .estimate \n",
       "1 rsq     standard   0.02361038"
      ]
     },
     "metadata": {},
     "output_type": "display_data"
    }
   ],
   "source": [
    "#MODEL 1 with 2 variables as predictors\n",
    "m1_fit <- fit(lm_spec, precip ~ relative_humidity + dry_bulb_temp_f,\n",
    "                 data = train_data)\n",
    "m1_train_results <- predict(m1_fit, new_data = train_data) %>%\n",
    "                                        mutate(truth = train_data$precip)\n",
    "#head(m1_train_results)\n",
    "\n",
    "print(\"Model 1 errors on training data:\")\n",
    "rmse(m1_train_results, truth = truth, estimate = .pred)\n",
    "rsq(m1_train_results, truth = truth, estimate = .pred)\n",
    "\n",
    "m1_test_results <- predict(m1_fit, new_data = test_data) %>%\n",
    "                                        mutate(truth = test_data$precip)\n",
    "print(\"Model 1 errors on test data:\")\n",
    "rmse(m1_test_results, truth = truth, estimate = .pred)\n",
    "rsq(m1_test_results, truth = truth, estimate = .pred)\n",
    "print(\"==========================================================================================\")\n",
    "\n",
    "#MODEL 2 with 4 variables as predictors\n",
    "m2_fit <- fit(lm_spec, precip ~ relative_humidity + dry_bulb_temp_f + wind_speed + station_pressure,\n",
    "                 data = train_data)\n",
    "\n",
    "m2_train_results <- predict(m2_fit, new_data = train_data) %>%\n",
    "                                        mutate(truth = train_data$precip)\n",
    "#head(m1_train_results)\n",
    "\n",
    "print(\"Model 2 errors on training data:\")\n",
    "rmse(m2_train_results, truth = truth, estimate = .pred)\n",
    "rsq(m2_train_results, truth = truth, estimate = .pred)\n",
    "\n",
    "m2_test_results <- predict(m2_fit, new_data = test_data) %>%\n",
    "                                        mutate(truth = test_data$precip)\n",
    "print(\"Model 2 errors on test data:\")\n",
    "rmse(m1_test_results, truth = truth, estimate = .pred)\n",
    "rsq(m1_test_results, truth = truth, estimate = .pred)\n",
    "print(\"==========================================================================================\")\n",
    "\n",
    "#MODEL 3 with 4 variables as predictors\n",
    "m3_fit <- fit(lm_spec, precip ~ poly(relative_humidity + dry_bulb_temp_f + wind_speed + station_pressure, 3),\n",
    "                 data = train_data)\n",
    "\n",
    "m3_train_results <- predict(m3_fit, new_data = train_data) %>%\n",
    "                                        mutate(truth = train_data$precip)\n",
    "#head(m1_train_results)\n",
    "\n",
    "print(\"Model 3 errors on training data:\")\n",
    "rmse(m3_train_results, truth = truth, estimate = .pred)\n",
    "rsq(m3_train_results, truth = truth, estimate = .pred)\n",
    "\n",
    "m3_test_results <- predict(m3_fit, new_data = test_data) %>%\n",
    "                                        mutate(truth = test_data$precip)\n",
    "print(\"Model 3 errors on test data:\")\n",
    "rmse(m1_test_results, truth = truth, estimate = .pred)\n",
    "rsq(m1_test_results, truth = truth, estimate = .pred)"
   ]
  },
  {
   "cell_type": "code",
   "execution_count": 23,
   "metadata": {},
   "outputs": [
    {
     "name": "stdout",
     "output_type": "stream",
     "text": [
      "[1] \"Model 4 'best' error based on the last_fit() function:\"\n"
     ]
    },
    {
     "data": {
      "text/html": [
       "<table>\n",
       "<caption>A tibble: 2 × 4</caption>\n",
       "<thead>\n",
       "\t<tr><th scope=col>.metric</th><th scope=col>.estimator</th><th scope=col>.estimate</th><th scope=col>.config</th></tr>\n",
       "\t<tr><th scope=col>&lt;chr&gt;</th><th scope=col>&lt;chr&gt;</th><th scope=col>&lt;dbl&gt;</th><th scope=col>&lt;fct&gt;</th></tr>\n",
       "</thead>\n",
       "<tbody>\n",
       "\t<tr><td>rmse</td><td>standard</td><td>0.05575242</td><td>Preprocessor1_Model1</td></tr>\n",
       "\t<tr><td>rsq </td><td>standard</td><td>0.03832918</td><td>Preprocessor1_Model1</td></tr>\n",
       "</tbody>\n",
       "</table>\n"
      ],
      "text/latex": [
       "A tibble: 2 × 4\n",
       "\\begin{tabular}{llll}\n",
       " .metric & .estimator & .estimate & .config\\\\\n",
       " <chr> & <chr> & <dbl> & <fct>\\\\\n",
       "\\hline\n",
       "\t rmse & standard & 0.05575242 & Preprocessor1\\_Model1\\\\\n",
       "\t rsq  & standard & 0.03832918 & Preprocessor1\\_Model1\\\\\n",
       "\\end{tabular}\n"
      ],
      "text/markdown": [
       "\n",
       "A tibble: 2 × 4\n",
       "\n",
       "| .metric &lt;chr&gt; | .estimator &lt;chr&gt; | .estimate &lt;dbl&gt; | .config &lt;fct&gt; |\n",
       "|---|---|---|---|\n",
       "| rmse | standard | 0.05575242 | Preprocessor1_Model1 |\n",
       "| rsq  | standard | 0.03832918 | Preprocessor1_Model1 |\n",
       "\n"
      ],
      "text/plain": [
       "  .metric .estimator .estimate  .config             \n",
       "1 rmse    standard   0.05575242 Preprocessor1_Model1\n",
       "2 rsq     standard   0.03832918 Preprocessor1_Model1"
      ]
     },
     "metadata": {},
     "output_type": "display_data"
    },
    {
     "name": "stdout",
     "output_type": "stream",
     "text": [
      "[1] \"==========================================================================================\"\n",
      "[1] \"Model 5 'best' errors based on the fit_resamples() function:\"\n"
     ]
    },
    {
     "data": {
      "text/html": [
       "<table>\n",
       "<caption>A tibble: 2 × 6</caption>\n",
       "<thead>\n",
       "\t<tr><th scope=col>.metric</th><th scope=col>.estimator</th><th scope=col>mean</th><th scope=col>n</th><th scope=col>std_err</th><th scope=col>.config</th></tr>\n",
       "\t<tr><th scope=col>&lt;chr&gt;</th><th scope=col>&lt;chr&gt;</th><th scope=col>&lt;dbl&gt;</th><th scope=col>&lt;int&gt;</th><th scope=col>&lt;dbl&gt;</th><th scope=col>&lt;fct&gt;</th></tr>\n",
       "</thead>\n",
       "<tbody>\n",
       "\t<tr><td>rmse</td><td>standard</td><td>0.90263974</td><td>10</td><td>0.16174539</td><td>Preprocessor1_Model1</td></tr>\n",
       "\t<tr><td>rsq </td><td>standard</td><td>0.08081437</td><td>10</td><td>0.01078833</td><td>Preprocessor1_Model1</td></tr>\n",
       "</tbody>\n",
       "</table>\n"
      ],
      "text/latex": [
       "A tibble: 2 × 6\n",
       "\\begin{tabular}{llllll}\n",
       " .metric & .estimator & mean & n & std\\_err & .config\\\\\n",
       " <chr> & <chr> & <dbl> & <int> & <dbl> & <fct>\\\\\n",
       "\\hline\n",
       "\t rmse & standard & 0.90263974 & 10 & 0.16174539 & Preprocessor1\\_Model1\\\\\n",
       "\t rsq  & standard & 0.08081437 & 10 & 0.01078833 & Preprocessor1\\_Model1\\\\\n",
       "\\end{tabular}\n"
      ],
      "text/markdown": [
       "\n",
       "A tibble: 2 × 6\n",
       "\n",
       "| .metric &lt;chr&gt; | .estimator &lt;chr&gt; | mean &lt;dbl&gt; | n &lt;int&gt; | std_err &lt;dbl&gt; | .config &lt;fct&gt; |\n",
       "|---|---|---|---|---|---|\n",
       "| rmse | standard | 0.90263974 | 10 | 0.16174539 | Preprocessor1_Model1 |\n",
       "| rsq  | standard | 0.08081437 | 10 | 0.01078833 | Preprocessor1_Model1 |\n",
       "\n"
      ],
      "text/plain": [
       "  .metric .estimator mean       n  std_err    .config             \n",
       "1 rmse    standard   0.90263974 10 0.16174539 Preprocessor1_Model1\n",
       "2 rsq     standard   0.08081437 10 0.01078833 Preprocessor1_Model1"
      ]
     },
     "metadata": {},
     "output_type": "display_data"
    }
   ],
   "source": [
    "#---MODEL 4 using last_fit() function will all 4 predictor variables \n",
    "set.seed(1234)\n",
    "\n",
    "print(\"Model 4 'best' error based on the last_fit() function:\")\n",
    "\n",
    "lm_spec2 <- linear_reg() %>% set_engine(engine = \"lm\")\n",
    "m4_results <- last_fit(lm_spec2,\n",
    "                  precip ~ relative_humidity + station_pressure + dry_bulb_temp_f + wind_speed, \n",
    "                      split = nooa_split)\n",
    "m4_results %>% collect_metrics()\n",
    "\n",
    "print(\"==========================================================================================\")\n",
    "\n",
    "\n",
    "#---MODEL 5 using scaled predictor variables with  cross-validation\n",
    "        #seting crossvalidation\n",
    "print(\"Model 5 'best' errors based on the fit_resamples() function:\")\n",
    "\n",
    "data_folds <- vfold_cv(nooaFinal_df, v=10)\n",
    "        #create recipe for preprocessing\n",
    "rec <- recipe(precip ~ relative_humidity + dry_bulb_temp_f + wind_speed + station_pressure,\n",
    "             data = nooaFinal_df) %>% \n",
    "                                    step_scale(precip, all_predictors())\n",
    "m5_results <- fit_resamples(lm_spec,\n",
    "                           preprocessor = rec,\n",
    "                           resamples = data_folds)\n",
    "m5_results %>% collect_metrics()"
   ]
  },
  {
   "cell_type": "code",
   "execution_count": 24,
   "metadata": {},
   "outputs": [
    {
     "name": "stdout",
     "output_type": "stream",
     "text": [
      "[1] \"Model 6  errors on simple cross-validation:\"\n"
     ]
    },
    {
     "data": {
      "text/html": [
       "<table>\n",
       "<caption>A tibble: 2 × 6</caption>\n",
       "<thead>\n",
       "\t<tr><th scope=col>.metric</th><th scope=col>.estimator</th><th scope=col>mean</th><th scope=col>n</th><th scope=col>std_err</th><th scope=col>.config</th></tr>\n",
       "\t<tr><th scope=col>&lt;chr&gt;</th><th scope=col>&lt;chr&gt;</th><th scope=col>&lt;dbl&gt;</th><th scope=col>&lt;int&gt;</th><th scope=col>&lt;dbl&gt;</th><th scope=col>&lt;fct&gt;</th></tr>\n",
       "</thead>\n",
       "<tbody>\n",
       "\t<tr><td>rmse</td><td>standard</td><td>0.9021816</td><td>10</td><td>0.16334014</td><td>Preprocessor1_Model1</td></tr>\n",
       "\t<tr><td>rsq </td><td>standard</td><td>0.0807573</td><td>10</td><td>0.01081189</td><td>Preprocessor1_Model1</td></tr>\n",
       "</tbody>\n",
       "</table>\n"
      ],
      "text/latex": [
       "A tibble: 2 × 6\n",
       "\\begin{tabular}{llllll}\n",
       " .metric & .estimator & mean & n & std\\_err & .config\\\\\n",
       " <chr> & <chr> & <dbl> & <int> & <dbl> & <fct>\\\\\n",
       "\\hline\n",
       "\t rmse & standard & 0.9021816 & 10 & 0.16334014 & Preprocessor1\\_Model1\\\\\n",
       "\t rsq  & standard & 0.0807573 & 10 & 0.01081189 & Preprocessor1\\_Model1\\\\\n",
       "\\end{tabular}\n"
      ],
      "text/markdown": [
       "\n",
       "A tibble: 2 × 6\n",
       "\n",
       "| .metric &lt;chr&gt; | .estimator &lt;chr&gt; | mean &lt;dbl&gt; | n &lt;int&gt; | std_err &lt;dbl&gt; | .config &lt;fct&gt; |\n",
       "|---|---|---|---|---|---|\n",
       "| rmse | standard | 0.9021816 | 10 | 0.16334014 | Preprocessor1_Model1 |\n",
       "| rsq  | standard | 0.0807573 | 10 | 0.01081189 | Preprocessor1_Model1 |\n",
       "\n"
      ],
      "text/plain": [
       "  .metric .estimator mean      n  std_err    .config             \n",
       "1 rmse    standard   0.9021816 10 0.16334014 Preprocessor1_Model1\n",
       "2 rsq     standard   0.0807573 10 0.01081189 Preprocessor1_Model1"
      ]
     },
     "metadata": {},
     "output_type": "display_data"
    },
    {
     "name": "stdout",
     "output_type": "stream",
     "text": [
      "[1] \"==========================================================================================\"\n",
      "[1] \"Model 7 errors based on grid search and tuning:\"\n"
     ]
    },
    {
     "name": "stderr",
     "output_type": "stream",
     "text": [
      "! Fold01: internal: A correlation computation is required, but `estimate` is const...\n",
      "! Fold02: internal: A correlation computation is required, but `estimate` is const...\n",
      "! Fold03: internal: A correlation computation is required, but `estimate` is const...\n",
      "! Fold04: internal: A correlation computation is required, but `estimate` is const...\n",
      "! Fold05: internal: A correlation computation is required, but `estimate` is const...\n",
      "! Fold06: internal: A correlation computation is required, but `estimate` is const...\n",
      "! Fold07: internal: A correlation computation is required, but `estimate` is const...\n",
      "! Fold08: internal: A correlation computation is required, but `estimate` is const...\n",
      "! Fold09: internal: A correlation computation is required, but `estimate` is const...\n",
      "! Fold10: internal: A correlation computation is required, but `estimate` is const...\n"
     ]
    },
    {
     "data": {
      "text/html": [
       "<table>\n",
       "<caption>A tibble: 5 × 8</caption>\n",
       "<thead>\n",
       "\t<tr><th scope=col>penalty</th><th scope=col>mixture</th><th scope=col>.metric</th><th scope=col>.estimator</th><th scope=col>mean</th><th scope=col>n</th><th scope=col>std_err</th><th scope=col>.config</th></tr>\n",
       "\t<tr><th scope=col>&lt;dbl&gt;</th><th scope=col>&lt;dbl&gt;</th><th scope=col>&lt;chr&gt;</th><th scope=col>&lt;chr&gt;</th><th scope=col>&lt;dbl&gt;</th><th scope=col>&lt;int&gt;</th><th scope=col>&lt;dbl&gt;</th><th scope=col>&lt;fct&gt;</th></tr>\n",
       "</thead>\n",
       "<tbody>\n",
       "\t<tr><td>0</td><td>1.0</td><td>rsq</td><td>standard</td><td>0.08088534</td><td>10</td><td>0.01079918</td><td>Preprocessor1_Model256</td></tr>\n",
       "\t<tr><td>0</td><td>0.8</td><td>rsq</td><td>standard</td><td>0.08088502</td><td>10</td><td>0.01079927</td><td>Preprocessor1_Model205</td></tr>\n",
       "\t<tr><td>0</td><td>0.6</td><td>rsq</td><td>standard</td><td>0.08088039</td><td>10</td><td>0.01079917</td><td>Preprocessor1_Model154</td></tr>\n",
       "\t<tr><td>0</td><td>0.4</td><td>rsq</td><td>standard</td><td>0.08087596</td><td>10</td><td>0.01079953</td><td>Preprocessor1_Model103</td></tr>\n",
       "\t<tr><td>0</td><td>0.2</td><td>rsq</td><td>standard</td><td>0.08087051</td><td>10</td><td>0.01080055</td><td>Preprocessor1_Model052</td></tr>\n",
       "</tbody>\n",
       "</table>\n"
      ],
      "text/latex": [
       "A tibble: 5 × 8\n",
       "\\begin{tabular}{llllllll}\n",
       " penalty & mixture & .metric & .estimator & mean & n & std\\_err & .config\\\\\n",
       " <dbl> & <dbl> & <chr> & <chr> & <dbl> & <int> & <dbl> & <fct>\\\\\n",
       "\\hline\n",
       "\t 0 & 1.0 & rsq & standard & 0.08088534 & 10 & 0.01079918 & Preprocessor1\\_Model256\\\\\n",
       "\t 0 & 0.8 & rsq & standard & 0.08088502 & 10 & 0.01079927 & Preprocessor1\\_Model205\\\\\n",
       "\t 0 & 0.6 & rsq & standard & 0.08088039 & 10 & 0.01079917 & Preprocessor1\\_Model154\\\\\n",
       "\t 0 & 0.4 & rsq & standard & 0.08087596 & 10 & 0.01079953 & Preprocessor1\\_Model103\\\\\n",
       "\t 0 & 0.2 & rsq & standard & 0.08087051 & 10 & 0.01080055 & Preprocessor1\\_Model052\\\\\n",
       "\\end{tabular}\n"
      ],
      "text/markdown": [
       "\n",
       "A tibble: 5 × 8\n",
       "\n",
       "| penalty &lt;dbl&gt; | mixture &lt;dbl&gt; | .metric &lt;chr&gt; | .estimator &lt;chr&gt; | mean &lt;dbl&gt; | n &lt;int&gt; | std_err &lt;dbl&gt; | .config &lt;fct&gt; |\n",
       "|---|---|---|---|---|---|---|---|\n",
       "| 0 | 1.0 | rsq | standard | 0.08088534 | 10 | 0.01079918 | Preprocessor1_Model256 |\n",
       "| 0 | 0.8 | rsq | standard | 0.08088502 | 10 | 0.01079927 | Preprocessor1_Model205 |\n",
       "| 0 | 0.6 | rsq | standard | 0.08088039 | 10 | 0.01079917 | Preprocessor1_Model154 |\n",
       "| 0 | 0.4 | rsq | standard | 0.08087596 | 10 | 0.01079953 | Preprocessor1_Model103 |\n",
       "| 0 | 0.2 | rsq | standard | 0.08087051 | 10 | 0.01080055 | Preprocessor1_Model052 |\n",
       "\n"
      ],
      "text/plain": [
       "  penalty mixture .metric .estimator mean       n  std_err   \n",
       "1 0       1.0     rsq     standard   0.08088534 10 0.01079918\n",
       "2 0       0.8     rsq     standard   0.08088502 10 0.01079927\n",
       "3 0       0.6     rsq     standard   0.08088039 10 0.01079917\n",
       "4 0       0.4     rsq     standard   0.08087596 10 0.01079953\n",
       "5 0       0.2     rsq     standard   0.08087051 10 0.01080055\n",
       "  .config               \n",
       "1 Preprocessor1_Model256\n",
       "2 Preprocessor1_Model205\n",
       "3 Preprocessor1_Model154\n",
       "4 Preprocessor1_Model103\n",
       "5 Preprocessor1_Model052"
      ]
     },
     "metadata": {},
     "output_type": "display_data"
    }
   ],
   "source": [
    "#---MODEL 6 using Lasso regression with scaled predictor variables\n",
    "print(\"Model 6  errors on simple cross-validation:\")\n",
    "\n",
    "lasso_spec <- linear_reg(penalty = 0.1, mixture = 0.3) %>% set_engine(engine = \"glmnet\")\n",
    "m6_results <- fit_resamples(lasso_spec,\n",
    "                         preprocessor = rec,\n",
    "                         resamples = data_folds)\n",
    "    #collect and filter results in order of average of rmse\n",
    "m6_results %>% collect_metrics() #%>% \n",
    "                                #filter(.metric == \"rsq\")# %>% \n",
    "                                #arrange(desc(mean))\n",
    "print(\"==========================================================================================\")\n",
    "\n",
    "#---MODEL 7 using elastic net with scaled predictor variables with  cross-validation\n",
    "print(\"Model 7 errors based on grid search and tuning:\")\n",
    "\n",
    "     #define engine\n",
    "enet_spec <- linear_reg(penalty = tune(), mixture = tune()) %>% set_engine(\"glmnet\")\n",
    "     #define penalty and mixture grids\n",
    "grid <- expand_grid(penalty = seq(0,100, by = 2), mixture = seq(0,1, by = 0.2))\n",
    "m7_results <- tune_grid(enet_spec,\n",
    "                       preprocessor = rec,\n",
    "                       grid = grid,\n",
    "                       resamples = data_folds)\n",
    "    #collect and filter results in order of average of rmse\n",
    "#m7_results %>% collect_metrics( ) %>% \n",
    "#                                filter(.metric == \"rsq\") %>% \n",
    "#                                arrange(desc(mean))\n",
    "\n",
    "show_best(m7_results, metric = \"rsq\")"
   ]
  },
  {
   "cell_type": "markdown",
   "metadata": {},
   "source": [
    "<a id=\"cell10\"></a>\n",
    "\n",
    "## 10. Find Best Model\n",
    "\n",
    "Compare the regression metrics of each model from section 9 to find the best model overall. To do this,\n",
    "\n",
    "1.  Evaluate the models on the **testing set** using at least one metric (like MSE, RMSE or R-squared).\n",
    "2.  After calculating the metrics on the testing set for each model, print them out in as a table to easily compare. You can use something like:\n",
    "\n",
    "```\n",
    "model_names <- c(\"model_1\", \"model_2\", \"model_3\")\n",
    "train_error <- c(\"model_1_value\", \"model_2_value\", \"model_3_value\")\n",
    "test_error <- c(\"model_1_value\", \"model_2_value\", \"model_3_value\")\n",
    "comparison_df <- data.frame(model_names, train_error, test_error)\n",
    "```\n",
    "\n",
    "3.  Finally, from the comparison table you create, conclude which model performed the best.\n"
   ]
  },
  {
   "cell_type": "code",
   "execution_count": 43,
   "metadata": {},
   "outputs": [
    {
     "data": {
      "text/html": [
       "<table>\n",
       "<caption>A data.frame: 7 × 5</caption>\n",
       "<thead>\n",
       "\t<tr><th scope=col>model_names</th><th scope=col>train_rsquared</th><th scope=col>test_rsquared</th><th scope=col>generalized</th><th scope=col>model_type</th></tr>\n",
       "\t<tr><th scope=col>&lt;fct&gt;</th><th scope=col>&lt;dbl&gt;</th><th scope=col>&lt;dbl&gt;</th><th scope=col>&lt;dbl&gt;</th><th scope=col>&lt;fct&gt;</th></tr>\n",
       "</thead>\n",
       "<tbody>\n",
       "\t<tr><td>model_1</td><td>0.04668956</td><td>0.02361038</td><td>        NA</td><td>MLR, 2 Pred.   </td></tr>\n",
       "\t<tr><td>model_2</td><td>0.06728923</td><td>0.02361038</td><td>        NA</td><td>MLR, 4 Pred.   </td></tr>\n",
       "\t<tr><td>model_3</td><td>0.05452458</td><td>0.02361038</td><td>        NA</td><td>POLY^3, 4 Pred.</td></tr>\n",
       "\t<tr><td>model_4</td><td>        NA</td><td>        NA</td><td>0.03832918</td><td>LM:last_fit()  </td></tr>\n",
       "\t<tr><td>model_5</td><td>        NA</td><td>        NA</td><td>0.08081437</td><td>Cross V.       </td></tr>\n",
       "\t<tr><td>model_6</td><td>        NA</td><td>        NA</td><td>0.08075730</td><td>Lasso          </td></tr>\n",
       "\t<tr><td>model_7</td><td>        NA</td><td>        NA</td><td>0.08088534</td><td>E.net          </td></tr>\n",
       "</tbody>\n",
       "</table>\n"
      ],
      "text/latex": [
       "A data.frame: 7 × 5\n",
       "\\begin{tabular}{lllll}\n",
       " model\\_names & train\\_rsquared & test\\_rsquared & generalized & model\\_type\\\\\n",
       " <fct> & <dbl> & <dbl> & <dbl> & <fct>\\\\\n",
       "\\hline\n",
       "\t model\\_1 & 0.04668956 & 0.02361038 &         NA & MLR, 2 Pred.   \\\\\n",
       "\t model\\_2 & 0.06728923 & 0.02361038 &         NA & MLR, 4 Pred.   \\\\\n",
       "\t model\\_3 & 0.05452458 & 0.02361038 &         NA & POLY\\textasciicircum{}3, 4 Pred.\\\\\n",
       "\t model\\_4 &         NA &         NA & 0.03832918 & LM:last\\_fit()  \\\\\n",
       "\t model\\_5 &         NA &         NA & 0.08081437 & Cross V.       \\\\\n",
       "\t model\\_6 &         NA &         NA & 0.08075730 & Lasso          \\\\\n",
       "\t model\\_7 &         NA &         NA & 0.08088534 & E.net          \\\\\n",
       "\\end{tabular}\n"
      ],
      "text/markdown": [
       "\n",
       "A data.frame: 7 × 5\n",
       "\n",
       "| model_names &lt;fct&gt; | train_rsquared &lt;dbl&gt; | test_rsquared &lt;dbl&gt; | generalized &lt;dbl&gt; | model_type &lt;fct&gt; |\n",
       "|---|---|---|---|---|\n",
       "| model_1 | 0.04668956 | 0.02361038 |         NA | MLR, 2 Pred.    |\n",
       "| model_2 | 0.06728923 | 0.02361038 |         NA | MLR, 4 Pred.    |\n",
       "| model_3 | 0.05452458 | 0.02361038 |         NA | POLY^3, 4 Pred. |\n",
       "| model_4 |         NA |         NA | 0.03832918 | LM:last_fit()   |\n",
       "| model_5 |         NA |         NA | 0.08081437 | Cross V.        |\n",
       "| model_6 |         NA |         NA | 0.08075730 | Lasso           |\n",
       "| model_7 |         NA |         NA | 0.08088534 | E.net           |\n",
       "\n"
      ],
      "text/plain": [
       "  model_names train_rsquared test_rsquared generalized model_type     \n",
       "1 model_1     0.04668956     0.02361038            NA  MLR, 2 Pred.   \n",
       "2 model_2     0.06728923     0.02361038            NA  MLR, 4 Pred.   \n",
       "3 model_3     0.05452458     0.02361038            NA  POLY^3, 4 Pred.\n",
       "4 model_4             NA             NA    0.03832918  LM:last_fit()  \n",
       "5 model_5             NA             NA    0.08081437  Cross V.       \n",
       "6 model_6             NA             NA    0.08075730  Lasso          \n",
       "7 model_7             NA             NA    0.08088534  E.net          "
      ]
     },
     "metadata": {},
     "output_type": "display_data"
    },
    {
     "data": {
      "text/html": [
       "'**The best model according the ordered table of models is:**'"
      ],
      "text/latex": [
       "'**The best model according the ordered table of models is:**'"
      ],
      "text/markdown": [
       "'**The best model according the ordered table of models is:**'"
      ],
      "text/plain": [
       "[1] \"**The best model according the ordered table of models is:**\""
      ]
     },
     "metadata": {},
     "output_type": "display_data"
    },
    {
     "data": {
      "text/html": [
       "<table>\n",
       "<caption>A data.frame: 1 × 5</caption>\n",
       "<thead>\n",
       "\t<tr><th></th><th scope=col>model_names</th><th scope=col>train_rsquared</th><th scope=col>test_rsquared</th><th scope=col>generalized</th><th scope=col>model_type</th></tr>\n",
       "\t<tr><th></th><th scope=col>&lt;fct&gt;</th><th scope=col>&lt;dbl&gt;</th><th scope=col>&lt;dbl&gt;</th><th scope=col>&lt;dbl&gt;</th><th scope=col>&lt;fct&gt;</th></tr>\n",
       "</thead>\n",
       "<tbody>\n",
       "\t<tr><th scope=row>1</th><td>model_7</td><td>NA</td><td>NA</td><td>0.08088534</td><td>E.net</td></tr>\n",
       "</tbody>\n",
       "</table>\n"
      ],
      "text/latex": [
       "A data.frame: 1 × 5\n",
       "\\begin{tabular}{r|lllll}\n",
       "  & model\\_names & train\\_rsquared & test\\_rsquared & generalized & model\\_type\\\\\n",
       "  & <fct> & <dbl> & <dbl> & <dbl> & <fct>\\\\\n",
       "\\hline\n",
       "\t1 & model\\_7 & NA & NA & 0.08088534 & E.net\\\\\n",
       "\\end{tabular}\n"
      ],
      "text/markdown": [
       "\n",
       "A data.frame: 1 × 5\n",
       "\n",
       "| <!--/--> | model_names &lt;fct&gt; | train_rsquared &lt;dbl&gt; | test_rsquared &lt;dbl&gt; | generalized &lt;dbl&gt; | model_type &lt;fct&gt; |\n",
       "|---|---|---|---|---|---|\n",
       "| 1 | model_7 | NA | NA | 0.08088534 | E.net |\n",
       "\n"
      ],
      "text/plain": [
       "  model_names train_rsquared test_rsquared generalized model_type\n",
       "1 model_7     NA             NA            0.08088534  E.net     "
      ]
     },
     "metadata": {},
     "output_type": "display_data"
    }
   ],
   "source": [
    "model_names <- c(\"model_1\", \"model_2\", \"model_3\", \"model_4\", \"model_5\", \"model_6\", \"model_7\")\n",
    "train_rsquared <- c(0.04668956, 0.06728923, 0.05452458, NA, NA, NA, NA)\n",
    "test_rsquared <- c(0.02361038, 0.02361038, 0.02361038, NA, NA, NA, NA)\n",
    "generalized <- c(NA, NA, NA, 0.03832918, 0.08081437, 0.0807573, 0.08088534)\n",
    "model_type <- c(\"MLR, 2 Pred.\", \"MLR, 4 Pred.\", \"POLY^3, 4 Pred.\", \"LM:last_fit()\", \"Cross V.\", \"Lasso\", \"E.net\" )\n",
    "comparison_df <- data.frame(model_names, train_rsquared, test_rsquared, generalized, model_type)\n",
    "\n",
    "comparison_df\n",
    "\n",
    "# RSQUARE arranged in descending order\n",
    "ordered_df <- comparison_df %>% arrange(desc(generalized, train_rsquared))\n",
    "\n",
    "\n",
    "paste(\"**The best model according the ordered table of models is:**\")\n",
    "ordered_df[1,]"
   ]
  },
  {
   "cell_type": "markdown",
   "metadata": {},
   "source": [
    "## Author(s)\n",
    "\n",
    "<h4> Yiwen Li </h4>\n",
    "\n",
    "## Contributions\n",
    "\n",
    "<h4> Tiffany Zhu </h4>\n",
    "\n",
    "## <h3 align=\"center\"> © IBM Corporation 2021. All rights reserved. <h3/>\n"
   ]
  }
 ],
 "metadata": {
  "kernelspec": {
   "display_name": "R",
   "language": "R",
   "name": "conda-env-r-r"
  },
  "language_info": {
   "codemirror_mode": "r",
   "file_extension": ".r",
   "mimetype": "text/x-r-source",
   "name": "R",
   "pygments_lexer": "r",
   "version": "3.5.1"
  },
  "widgets": {
   "state": {},
   "version": "1.1.2"
  }
 },
 "nbformat": 4,
 "nbformat_minor": 4
}
